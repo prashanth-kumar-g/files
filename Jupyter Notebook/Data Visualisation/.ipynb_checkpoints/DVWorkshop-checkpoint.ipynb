{
 "cells": [
  {
   "cell_type": "code",
   "execution_count": 1,
   "id": "7065336b-9f4e-4b3b-b8ee-c41dd82ce778",
   "metadata": {},
   "outputs": [],
   "source": [
    "import numpy as np"
   ]
  },
  {
   "cell_type": "code",
   "execution_count": 2,
   "id": "2f8ea207-8274-4025-9249-fb44027318d2",
   "metadata": {},
   "outputs": [
    {
     "name": "stdout",
     "output_type": "stream",
     "text": [
      "[1 2 3 4 5]\n"
     ]
    }
   ],
   "source": [
    "arr = np.array([1,2,3,4,5])\n",
    "print(arr)"
   ]
  },
  {
   "cell_type": "code",
   "execution_count": 3,
   "id": "6f076fd4-c1ef-41a2-be59-f9cd13a095e5",
   "metadata": {},
   "outputs": [
    {
     "name": "stdout",
     "output_type": "stream",
     "text": [
      "[1 3 5 7 9]\n"
     ]
    }
   ],
   "source": [
    "arr = np.arange(1,10,2)\n",
    "print(arr)"
   ]
  },
  {
   "cell_type": "code",
   "execution_count": 5,
   "id": "921c0ff7-241c-4bb5-b699-55b371f3043c",
   "metadata": {},
   "outputs": [
    {
     "name": "stdout",
     "output_type": "stream",
     "text": [
      "[0.   0.25 0.5  0.75 1.  ]\n"
     ]
    }
   ],
   "source": [
    "arr = np.linspace(0,1,5)\n",
    "print(arr)"
   ]
  },
  {
   "cell_type": "code",
   "execution_count": 8,
   "id": "d85950c0-f54d-4fee-b5a9-32bbcc30f5b4",
   "metadata": {},
   "outputs": [
    {
     "name": "stdout",
     "output_type": "stream",
     "text": [
      "(5,)\n",
      "5\n",
      "1\n",
      "float64\n"
     ]
    }
   ],
   "source": [
    "print(arr.shape)\n",
    "print(arr.size)\n",
    "print(arr.ndim)\n",
    "print(arr.dtype)"
   ]
  },
  {
   "cell_type": "code",
   "execution_count": 12,
   "id": "ef566321-f157-435b-a250-51944fb247b1",
   "metadata": {},
   "outputs": [
    {
     "name": "stdout",
     "output_type": "stream",
     "text": [
      "(2, 2)\n",
      "4\n",
      "2\n",
      "int32\n"
     ]
    }
   ],
   "source": [
    "arr2 = np.array([[1,2],[3,4]])\n",
    "print(arr2.shape)\n",
    "print(arr2.size)\n",
    "print(arr2.ndim)\n",
    "print(arr2.dtype)"
   ]
  },
  {
   "cell_type": "code",
   "execution_count": 13,
   "id": "8040ca6f-a34f-4dff-ab8e-97c4be974217",
   "metadata": {},
   "outputs": [
    {
     "name": "stdout",
     "output_type": "stream",
     "text": [
      "sum =  15\n",
      "max =  5\n",
      "min =  1\n",
      "mean =  3.0\n",
      "std =  1.4142135623730951\n"
     ]
    }
   ],
   "source": [
    "a1 = np.array([1,2,3,4,5])\n",
    "sum = np.sum(a1)\n",
    "max = np.max(a1)\n",
    "min = np.min(a1)\n",
    "mean = np.mean(a1)\n",
    "std = np.std(a1)\n",
    "print(\"sum = \",sum)\n",
    "print(\"max = \",max)\n",
    "print(\"min = \",min)\n",
    "print(\"mean = \",mean)\n",
    "print(\"std = \",std)"
   ]
  },
  {
   "cell_type": "code",
   "execution_count": 14,
   "id": "d44900cf-100e-468e-9149-61557c5d03bf",
   "metadata": {},
   "outputs": [
    {
     "name": "stdout",
     "output_type": "stream",
     "text": [
      "sum =  [[ 6  8]\n",
      " [10 12]]\n",
      "diff =  [[-4 -4]\n",
      " [-4 -4]]\n",
      "prod =  [[ 5 12]\n",
      " [21 32]]\n",
      "dotProd =  [[19 22]\n",
      " [43 50]]\n"
     ]
    }
   ],
   "source": [
    "m1 = np.array([[1,2],[3,4]])\n",
    "m2 = np.array([[5,6],[7,8]])\n",
    "\n",
    "sum = m1 + m2\n",
    "diff = m1 - m2\n",
    "prod = m1 * m2\n",
    "dotProd = np.dot(m1,m2)\n",
    "print(\"sum = \",sum)\n",
    "print(\"diff = \",diff)\n",
    "print(\"prod = \",prod)\n",
    "print(\"dotProd = \",dotProd)"
   ]
  },
  {
   "cell_type": "code",
   "execution_count": 15,
   "id": "1fc16992-5511-4ae1-8951-4166fd5a12b0",
   "metadata": {},
   "outputs": [],
   "source": [
    "from numpy import random as r"
   ]
  },
  {
   "cell_type": "code",
   "execution_count": 16,
   "id": "28e333c2-ca1e-469d-99af-d673d59283aa",
   "metadata": {},
   "outputs": [
    {
     "name": "stdout",
     "output_type": "stream",
     "text": [
      "[0.29507304 0.32548574 0.94022028 0.57409951 0.96680198]\n"
     ]
    }
   ],
   "source": [
    "a1 = r.rand(5)\n",
    "print(a1)"
   ]
  },
  {
   "cell_type": "code",
   "execution_count": 22,
   "id": "3afb1d38-9087-4415-a074-da4cd50136b5",
   "metadata": {},
   "outputs": [
    {
     "name": "stdout",
     "output_type": "stream",
     "text": [
      "[73 37 10 50  1 40 41 77 15 32]\n",
      "<class 'numpy.ndarray'>\n"
     ]
    }
   ],
   "source": [
    "a1 = r.randint(1,100,10)\n",
    "print(a1)"
   ]
  },
  {
   "cell_type": "code",
   "execution_count": 24,
   "id": "c4df8293-2731-46e3-947a-572b1ae4ea98",
   "metadata": {},
   "outputs": [
    {
     "name": "stdout",
     "output_type": "stream",
     "text": [
      "random from choice =  3\n"
     ]
    }
   ],
   "source": [
    "a = [3,6,7,9,12]\n",
    "random = r.choice(a)\n",
    "print(\"random from choice = \",random)"
   ]
  },
  {
   "cell_type": "code",
   "execution_count": 45,
   "id": "1a3a9718-814f-496e-abd5-1431900f43d3",
   "metadata": {},
   "outputs": [
    {
     "name": "stdout",
     "output_type": "stream",
     "text": [
      "[20 30 50 40 10]\n"
     ]
    }
   ],
   "source": [
    "lst = np.array([10,20,30,40,50])\n",
    "r.shuffle(lst)\n",
    "print(lst)"
   ]
  },
  {
   "cell_type": "code",
   "execution_count": 29,
   "id": "d1be2ae2-6c7e-4b64-b4f6-4d7d1510b4e7",
   "metadata": {},
   "outputs": [
    {
     "name": "stdout",
     "output_type": "stream",
     "text": [
      "unique set1 =  [1 2 3 4 5]\n",
      "union =  [1 2 3 4 5 6 7]\n",
      "intersection =  [4 5]\n",
      "symmetric =  [1 2 3 6 7]\n"
     ]
    }
   ],
   "source": [
    "set1 = np.array([1,1,1,2,3,4,5])\n",
    "set2 = np.array([4,5,6,7])\n",
    "print(\"unique set1 = \",np.unique(set1))\n",
    "print(\"union = \",np.union1d(set1,set2))\n",
    "print(\"intersection = \",np.intersect1d(set1,set2))\n",
    "print(\"symmetric = \",np.setxor1d(set1,set2))"
   ]
  },
  {
   "cell_type": "code",
   "execution_count": 38,
   "id": "842b2535-b8b1-4bd4-8afa-ce3da1f9bda0",
   "metadata": {},
   "outputs": [
    {
     "name": "stdout",
     "output_type": "stream",
     "text": [
      "[5, 7, 9, 11, 13]\n"
     ]
    }
   ],
   "source": [
    "def add(x,y):\n",
    "    return x+y\n",
    "sumlst = list(map(add,[1,2,3,4,5],[4,5,6,7,8]))\n",
    "print(sumlst)"
   ]
  },
  {
   "cell_type": "code",
   "execution_count": 36,
   "id": "e56cfcf2-0480-46fb-8f0d-38084f1ceb30",
   "metadata": {},
   "outputs": [
    {
     "name": "stdout",
     "output_type": "stream",
     "text": [
      "[5 7 9 11 13]\n"
     ]
    }
   ],
   "source": [
    "def add(x,y):\n",
    "    return x+y\n",
    "myadd = np.frompyfunc(add,2,1)\n",
    "print(myadd([1,2,3,4,5],[4,5,6,7,8]))"
   ]
  },
  {
   "cell_type": "code",
   "execution_count": 51,
   "id": "cf2114e4-fe71-4f9a-824a-4c6c5c37c67d",
   "metadata": {},
   "outputs": [
    {
     "name": "stdout",
     "output_type": "stream",
     "text": [
      "[1 3 5]\n",
      "[ 1  2  3  4  5  6  7  8  9 10]\n",
      "[ 1  2  3  4  5  6  7  8  9 10]\n",
      "[ 2  4  6  8 10]\n"
     ]
    }
   ],
   "source": [
    "a1 = np.array([1,2,3,4,5,6,7,8,9,10])\n",
    "c1 = a1.copy()\n",
    "c2 = a1[1:10:2].copy()\n",
    "indices = [0,2,4]\n",
    "print(a1[indices])\n",
    "print(a1)\n",
    "print(c1)\n",
    "print(c2)"
   ]
  },
  {
   "cell_type": "code",
   "execution_count": 61,
   "id": "10ef02e9-d197-47da-87c6-a8b612435d06",
   "metadata": {},
   "outputs": [
    {
     "name": "stdout",
     "output_type": "stream",
     "text": [
      "Original data : \n",
      " [[1 2 3]\n",
      " [4 5 6]\n",
      " [7 8 9]]\n",
      "saving data in data.txt...\n",
      "Loaded data from data.txt:\n",
      " [[1. 2. 3.]\n",
      " [4. 5. 6.]\n",
      " [7. 8. 9.]]\n"
     ]
    }
   ],
   "source": [
    "data = np.array([[1,2,3],[4,5,6],[7,8,9]])\n",
    "print(\"Original data : \\n\",data)\n",
    "print(\"saving data in data.txt...\")\n",
    "np.savetxt('data.txt',data,delimiter=\",\", fmt='%d')\n",
    "loaded_data = np.loadtxt('data.txt', delimiter=\",\")\n",
    "print(\"Loaded data from data.txt:\\n\", loaded_data)"
   ]
  },
  {
   "cell_type": "code",
   "execution_count": 62,
   "id": "f818b6c1-8a4b-4d6d-8e19-970b382dd98e",
   "metadata": {},
   "outputs": [
    {
     "name": "stdout",
     "output_type": "stream",
     "text": [
      "Original data : \n",
      " [[1 2 3]\n",
      " [4 5 6]\n",
      " [7 8 9]]\n",
      "saving data in data.txt...\n",
      "Loaded data from data.txt:\n",
      " [[1. 2. 3.]\n",
      " [4. 5. 6.]\n",
      " [7. 8. 9.]]\n"
     ]
    }
   ],
   "source": [
    "data = np.array([[1,2,3],[4,5,6],[7,8,9]])\n",
    "print(\"Original data : \\n\",data)\n",
    "print(\"saving data in data.txt...\")\n",
    "np.savetxt('data.csv',data,delimiter=\",\", fmt='%d')\n",
    "loaded_data = np.loadtxt('data.csv', delimiter=\",\")\n",
    "print(\"Loaded data from data.txt:\\n\", loaded_data)"
   ]
  },
  {
   "cell_type": "code",
   "execution_count": 64,
   "id": "042f9834-c707-4fff-a1e3-7c5e0e9958e6",
   "metadata": {},
   "outputs": [
    {
     "name": "stdout",
     "output_type": "stream",
     "text": [
      "[ 1.  2.  3. nan  5.]\n",
      "[1. 2. 3. 5.]\n",
      "Mean ignoring NaN: 2.75\n"
     ]
    }
   ],
   "source": [
    "data = np.array([1,2,3,np.nan,5])\n",
    "clean_data = data[~np.isnan(data)]\n",
    "print(data)\n",
    "print(clean_data)\n",
    "mean_value = np.nanmean(data)\n",
    "print(\"Mean ignoring NaN:\", mean_value)"
   ]
  },
  {
   "cell_type": "code",
   "execution_count": 65,
   "id": "ba6b213b-2a8e-4f33-a4aa-133538589975",
   "metadata": {},
   "outputs": [],
   "source": [
    "import pandas as pd"
   ]
  },
  {
   "cell_type": "code",
   "execution_count": 69,
   "id": "1e7d24a6-b984-4264-8591-13e02af83ca9",
   "metadata": {},
   "outputs": [
    {
     "name": "stdout",
     "output_type": "stream",
     "text": [
      "list =  [10, 20, 30, 40, 50] \n",
      "\n",
      "pd array =  <IntegerArray>\n",
      "[10, 20, 30, 40, 50]\n",
      "Length: 5, dtype: Int64 \n",
      "\n",
      "series_list: \n",
      " 0    10\n",
      "1    20\n",
      "2    30\n",
      "3    40\n",
      "4    50\n",
      "dtype: int64 \n",
      "\n",
      "series_array: \n",
      " 0    10\n",
      "1    20\n",
      "2    30\n",
      "3    40\n",
      "4    50\n",
      "dtype: Int64\n"
     ]
    }
   ],
   "source": [
    "list1 = [10,20,30,40,50]\n",
    "array1 = pd.array(list1)\n",
    "series_list = pd.Series(list1)\n",
    "series_array = pd.Series(array1)\n",
    "print(\"list = \",list1,\"\\n\")\n",
    "print(\"pd array = \",array1,\"\\n\")\n",
    "print(\"series_list: \\n\",series_list,\"\\n\")\n",
    "print(\"series_array: \\n\",series_array)"
   ]
  },
  {
   "cell_type": "code",
   "execution_count": 77,
   "id": "687f3fdb-fdc9-4cfd-8938-3ad6239e7c6b",
   "metadata": {},
   "outputs": [
    {
     "name": "stdout",
     "output_type": "stream",
     "text": [
      "A    10\n",
      "B    20\n",
      "C    30\n",
      "D    40\n",
      "E    50\n",
      "dtype: int64\n",
      "\n",
      " <class 'pandas.core.series.Series'>\n",
      "\n",
      " (5,)\n",
      "\n",
      " [10 20 30 40 50]\n",
      "\n",
      " Index(['A', 'B', 'C', 'D', 'E'], dtype='object')\n"
     ]
    }
   ],
   "source": [
    "list1_labelled = pd.Series(list1, index=[\"A\",\"B\",\"C\",\"D\",\"E\"])\n",
    "print(list1_labelled)\n",
    "print(\"\\n\",type(list1_labelled))\n",
    "print(\"\\n\",list1_labelled.shape)\n",
    "print(\"\\n\",list1_labelled.values)\n",
    "print(\"\\n\",list1_labelled.index)"
   ]
  },
  {
   "cell_type": "code",
   "execution_count": 81,
   "id": "110105cd-9e9f-4db9-84d1-5fce2ddbe728",
   "metadata": {},
   "outputs": [
    {
     "name": "stdout",
     "output_type": "stream",
     "text": [
      "Tata       10\n",
      "Birla      20\n",
      "Wipro      30\n",
      "Infosys    40\n",
      "HCL        50\n",
      "dtype: int64\n",
      "\n",
      " 10\n",
      "\n",
      " Tata       10\n",
      "Birla      20\n",
      "Wipro      30\n",
      "Infosys    40\n",
      "dtype: int64\n",
      "\n",
      " Tata     10\n",
      "Wipro    30\n",
      "dtype: int64\n"
     ]
    }
   ],
   "source": [
    "label_list = ['Tata','Birla','Wipro','Infosys','HCL']\n",
    "ps1 = pd.Series(list1, index=label_list)\n",
    "print(ps1)\n",
    "print(\"\\n\",ps1[\"Tata\"])\n",
    "print(\"\\n\",ps1[\"Tata\":\"Infosys\"])\n",
    "print(\"\\n\",ps1[\"Tata\":\"Infosys\":2])"
   ]
  },
  {
   "cell_type": "code",
   "execution_count": 85,
   "id": "ee3bd2f2-f936-40d0-9a21-b826cd7f06de",
   "metadata": {},
   "outputs": [
    {
     "name": "stdout",
     "output_type": "stream",
     "text": [
      "Tata       False\n",
      "Birla       True\n",
      "Wipro       True\n",
      "Infosys     True\n",
      "HCL         True\n",
      "dtype: bool\n",
      "\n",
      " Tata       11\n",
      "Birla      21\n",
      "Wipro      31\n",
      "Infosys    41\n",
      "HCL        51\n",
      "dtype: int64\n"
     ]
    }
   ],
   "source": [
    "mask1 = ps1>10\n",
    "mask2 = ps1+1\n",
    "print(mask1)\n",
    "print(\"\\n\",mask2)"
   ]
  },
  {
   "cell_type": "code",
   "execution_count": 87,
   "id": "055ce153-4610-4e43-af50-4632ef65d639",
   "metadata": {},
   "outputs": [
    {
     "data": {
      "text/html": [
       "<div>\n",
       "<style scoped>\n",
       "    .dataframe tbody tr th:only-of-type {\n",
       "        vertical-align: middle;\n",
       "    }\n",
       "\n",
       "    .dataframe tbody tr th {\n",
       "        vertical-align: top;\n",
       "    }\n",
       "\n",
       "    .dataframe thead th {\n",
       "        text-align: right;\n",
       "    }\n",
       "</style>\n",
       "<table border=\"1\" class=\"dataframe\">\n",
       "  <thead>\n",
       "    <tr style=\"text-align: right;\">\n",
       "      <th></th>\n",
       "      <th>Students</th>\n",
       "    </tr>\n",
       "  </thead>\n",
       "  <tbody>\n",
       "    <tr>\n",
       "      <th>0</th>\n",
       "      <td>Ramesh</td>\n",
       "    </tr>\n",
       "    <tr>\n",
       "      <th>1</th>\n",
       "      <td>Suresh</td>\n",
       "    </tr>\n",
       "    <tr>\n",
       "      <th>2</th>\n",
       "      <td>Mukesh</td>\n",
       "    </tr>\n",
       "    <tr>\n",
       "      <th>3</th>\n",
       "      <td>Rajesh</td>\n",
       "    </tr>\n",
       "    <tr>\n",
       "      <th>4</th>\n",
       "      <td>Subhash</td>\n",
       "    </tr>\n",
       "  </tbody>\n",
       "</table>\n",
       "</div>"
      ],
      "text/plain": [
       "  Students\n",
       "0   Ramesh\n",
       "1   Suresh\n",
       "2   Mukesh\n",
       "3   Rajesh\n",
       "4  Subhash"
      ]
     },
     "execution_count": 87,
     "metadata": {},
     "output_type": "execute_result"
    }
   ],
   "source": [
    "student = [\"Ramesh\",\"Suresh\",\"Mukesh\",\"Rajesh\",\"Subhash\"]\n",
    "df1 = pd.DataFrame(student, columns=['Students'])\n",
    "df1"
   ]
  },
  {
   "cell_type": "code",
   "execution_count": 90,
   "id": "f173ccf3-08d6-4416-ab19-4e50303aa9c5",
   "metadata": {},
   "outputs": [
    {
     "data": {
      "text/html": [
       "<div>\n",
       "<style scoped>\n",
       "    .dataframe tbody tr th:only-of-type {\n",
       "        vertical-align: middle;\n",
       "    }\n",
       "\n",
       "    .dataframe tbody tr th {\n",
       "        vertical-align: top;\n",
       "    }\n",
       "\n",
       "    .dataframe thead th {\n",
       "        text-align: right;\n",
       "    }\n",
       "</style>\n",
       "<table border=\"1\" class=\"dataframe\">\n",
       "  <thead>\n",
       "    <tr style=\"text-align: right;\">\n",
       "      <th></th>\n",
       "      <th>Students</th>\n",
       "      <th>Grades</th>\n",
       "    </tr>\n",
       "  </thead>\n",
       "  <tbody>\n",
       "    <tr>\n",
       "      <th>0</th>\n",
       "      <td>Ramesh</td>\n",
       "      <td>A</td>\n",
       "    </tr>\n",
       "    <tr>\n",
       "      <th>1</th>\n",
       "      <td>Suresh</td>\n",
       "      <td>A+</td>\n",
       "    </tr>\n",
       "    <tr>\n",
       "      <th>2</th>\n",
       "      <td>Mukesh</td>\n",
       "      <td>B</td>\n",
       "    </tr>\n",
       "    <tr>\n",
       "      <th>3</th>\n",
       "      <td>Rajesh</td>\n",
       "      <td>B+</td>\n",
       "    </tr>\n",
       "    <tr>\n",
       "      <th>4</th>\n",
       "      <td>Subhash</td>\n",
       "      <td>C</td>\n",
       "    </tr>\n",
       "  </tbody>\n",
       "</table>\n",
       "</div>"
      ],
      "text/plain": [
       "  Students Grades\n",
       "0   Ramesh      A\n",
       "1   Suresh     A+\n",
       "2   Mukesh      B\n",
       "3   Rajesh     B+\n",
       "4  Subhash      C"
      ]
     },
     "execution_count": 90,
     "metadata": {},
     "output_type": "execute_result"
    }
   ],
   "source": [
    "grades = [\"A\",\"A+\",\"B\",\"B+\",\"C\"]\n",
    "df2 = pd.DataFrame({\"Students\":student, \"Grades\":grades})\n",
    "df2"
   ]
  },
  {
   "cell_type": "code",
   "execution_count": 94,
   "id": "a535a3f8-2f0c-445a-b112-6007a5f47bec",
   "metadata": {},
   "outputs": [
    {
     "data": {
      "text/plain": [
       "0     Ramesh\n",
       "1     Suresh\n",
       "2     Mukesh\n",
       "3     Rajesh\n",
       "4    Subhash\n",
       "Name: Students, dtype: object"
      ]
     },
     "execution_count": 94,
     "metadata": {},
     "output_type": "execute_result"
    }
   ],
   "source": [
    "df2[\"Students\"]"
   ]
  },
  {
   "cell_type": "code",
   "execution_count": 93,
   "id": "e32b64a0-350f-4c10-9533-d30fa1a98f81",
   "metadata": {},
   "outputs": [
    {
     "data": {
      "text/html": [
       "<div>\n",
       "<style scoped>\n",
       "    .dataframe tbody tr th:only-of-type {\n",
       "        vertical-align: middle;\n",
       "    }\n",
       "\n",
       "    .dataframe tbody tr th {\n",
       "        vertical-align: top;\n",
       "    }\n",
       "\n",
       "    .dataframe thead th {\n",
       "        text-align: right;\n",
       "    }\n",
       "</style>\n",
       "<table border=\"1\" class=\"dataframe\">\n",
       "  <thead>\n",
       "    <tr style=\"text-align: right;\">\n",
       "      <th></th>\n",
       "      <th>Students</th>\n",
       "      <th>Grades</th>\n",
       "    </tr>\n",
       "  </thead>\n",
       "  <tbody>\n",
       "    <tr>\n",
       "      <th>0</th>\n",
       "      <td>Ramesh</td>\n",
       "      <td>A</td>\n",
       "    </tr>\n",
       "  </tbody>\n",
       "</table>\n",
       "</div>"
      ],
      "text/plain": [
       "  Students Grades\n",
       "0   Ramesh      A"
      ]
     },
     "execution_count": 93,
     "metadata": {},
     "output_type": "execute_result"
    }
   ],
   "source": [
    "df2[::12]"
   ]
  },
  {
   "cell_type": "code",
   "execution_count": 95,
   "id": "93dae55b-23b0-4095-9feb-35395cdbf07e",
   "metadata": {},
   "outputs": [
    {
     "data": {
      "text/plain": [
       "Students    Suresh\n",
       "Grades          A+\n",
       "Name: 1, dtype: object"
      ]
     },
     "execution_count": 95,
     "metadata": {},
     "output_type": "execute_result"
    }
   ],
   "source": [
    "df2.loc[1]"
   ]
  },
  {
   "cell_type": "code",
   "execution_count": 96,
   "id": "a443118d-b319-495a-9679-35240c0d8720",
   "metadata": {},
   "outputs": [
    {
     "data": {
      "text/plain": [
       "'A+'"
      ]
     },
     "execution_count": 96,
     "metadata": {},
     "output_type": "execute_result"
    }
   ],
   "source": [
    "df2.loc[1, \"Grades\"]"
   ]
  },
  {
   "cell_type": "code",
   "execution_count": 97,
   "id": "929d16a9-1e39-4c0b-8d9f-7f52518561ff",
   "metadata": {},
   "outputs": [
    {
     "data": {
      "text/plain": [
       "'Subhash'"
      ]
     },
     "execution_count": 97,
     "metadata": {},
     "output_type": "execute_result"
    }
   ],
   "source": [
    "df2.loc[4, \"Students\"]"
   ]
  },
  {
   "cell_type": "code",
   "execution_count": 98,
   "id": "f8cbfa62-bea6-49e9-918e-16677d5fa29a",
   "metadata": {},
   "outputs": [
    {
     "data": {
      "text/html": [
       "<div>\n",
       "<style scoped>\n",
       "    .dataframe tbody tr th:only-of-type {\n",
       "        vertical-align: middle;\n",
       "    }\n",
       "\n",
       "    .dataframe tbody tr th {\n",
       "        vertical-align: top;\n",
       "    }\n",
       "\n",
       "    .dataframe thead th {\n",
       "        text-align: right;\n",
       "    }\n",
       "</style>\n",
       "<table border=\"1\" class=\"dataframe\">\n",
       "  <thead>\n",
       "    <tr style=\"text-align: right;\">\n",
       "      <th></th>\n",
       "      <th>Students</th>\n",
       "      <th>Grades</th>\n",
       "      <th>Location</th>\n",
       "    </tr>\n",
       "  </thead>\n",
       "  <tbody>\n",
       "    <tr>\n",
       "      <th>0</th>\n",
       "      <td>Ramesh</td>\n",
       "      <td>A</td>\n",
       "      <td>Bangalore</td>\n",
       "    </tr>\n",
       "    <tr>\n",
       "      <th>1</th>\n",
       "      <td>Suresh</td>\n",
       "      <td>A+</td>\n",
       "      <td>Chennai</td>\n",
       "    </tr>\n",
       "    <tr>\n",
       "      <th>2</th>\n",
       "      <td>Mukesh</td>\n",
       "      <td>B</td>\n",
       "      <td>Mumbai</td>\n",
       "    </tr>\n",
       "    <tr>\n",
       "      <th>3</th>\n",
       "      <td>Rajesh</td>\n",
       "      <td>B+</td>\n",
       "      <td>Kolkata</td>\n",
       "    </tr>\n",
       "    <tr>\n",
       "      <th>4</th>\n",
       "      <td>Subhash</td>\n",
       "      <td>C</td>\n",
       "      <td>Delhi</td>\n",
       "    </tr>\n",
       "  </tbody>\n",
       "</table>\n",
       "</div>"
      ],
      "text/plain": [
       "  Students Grades   Location\n",
       "0   Ramesh      A  Bangalore\n",
       "1   Suresh     A+    Chennai\n",
       "2   Mukesh      B     Mumbai\n",
       "3   Rajesh     B+    Kolkata\n",
       "4  Subhash      C      Delhi"
      ]
     },
     "execution_count": 98,
     "metadata": {},
     "output_type": "execute_result"
    }
   ],
   "source": [
    "df2[\"Location\"] = [\"Bangalore\",\"Chennai\",\"Mumbai\",\"Kolkata\",\"Delhi\"]\n",
    "df2"
   ]
  },
  {
   "cell_type": "code",
   "execution_count": 99,
   "id": "d488a1fc-57a4-4f2c-aea5-99f2d51554b6",
   "metadata": {},
   "outputs": [
    {
     "data": {
      "text/html": [
       "<div>\n",
       "<style scoped>\n",
       "    .dataframe tbody tr th:only-of-type {\n",
       "        vertical-align: middle;\n",
       "    }\n",
       "\n",
       "    .dataframe tbody tr th {\n",
       "        vertical-align: top;\n",
       "    }\n",
       "\n",
       "    .dataframe thead th {\n",
       "        text-align: right;\n",
       "    }\n",
       "</style>\n",
       "<table border=\"1\" class=\"dataframe\">\n",
       "  <thead>\n",
       "    <tr style=\"text-align: right;\">\n",
       "      <th></th>\n",
       "      <th>Students</th>\n",
       "      <th>Grades</th>\n",
       "    </tr>\n",
       "  </thead>\n",
       "  <tbody>\n",
       "    <tr>\n",
       "      <th>0</th>\n",
       "      <td>Ramesh</td>\n",
       "      <td>A</td>\n",
       "    </tr>\n",
       "    <tr>\n",
       "      <th>1</th>\n",
       "      <td>Suresh</td>\n",
       "      <td>A+</td>\n",
       "    </tr>\n",
       "    <tr>\n",
       "      <th>2</th>\n",
       "      <td>Mukesh</td>\n",
       "      <td>B</td>\n",
       "    </tr>\n",
       "    <tr>\n",
       "      <th>3</th>\n",
       "      <td>Rajesh</td>\n",
       "      <td>B+</td>\n",
       "    </tr>\n",
       "    <tr>\n",
       "      <th>4</th>\n",
       "      <td>Subhash</td>\n",
       "      <td>C</td>\n",
       "    </tr>\n",
       "  </tbody>\n",
       "</table>\n",
       "</div>"
      ],
      "text/plain": [
       "  Students Grades\n",
       "0   Ramesh      A\n",
       "1   Suresh     A+\n",
       "2   Mukesh      B\n",
       "3   Rajesh     B+\n",
       "4  Subhash      C"
      ]
     },
     "execution_count": 99,
     "metadata": {},
     "output_type": "execute_result"
    }
   ],
   "source": [
    "df2.drop(\"Location\",axis=1,inplace=True)\n",
    "df2"
   ]
  },
  {
   "cell_type": "code",
   "execution_count": 101,
   "id": "9a0b1454-26e0-499b-8223-19e8c0fa3f69",
   "metadata": {},
   "outputs": [
    {
     "data": {
      "text/html": [
       "<div>\n",
       "<style scoped>\n",
       "    .dataframe tbody tr th:only-of-type {\n",
       "        vertical-align: middle;\n",
       "    }\n",
       "\n",
       "    .dataframe tbody tr th {\n",
       "        vertical-align: top;\n",
       "    }\n",
       "\n",
       "    .dataframe thead th {\n",
       "        text-align: right;\n",
       "    }\n",
       "</style>\n",
       "<table border=\"1\" class=\"dataframe\">\n",
       "  <thead>\n",
       "    <tr style=\"text-align: right;\">\n",
       "      <th></th>\n",
       "      <th>customerID</th>\n",
       "      <th>category</th>\n",
       "      <th>first_visit</th>\n",
       "      <th>sales</th>\n",
       "    </tr>\n",
       "  </thead>\n",
       "  <tbody>\n",
       "    <tr>\n",
       "      <th>0</th>\n",
       "      <td>101</td>\n",
       "      <td>Medium</td>\n",
       "      <td>yes</td>\n",
       "      <td>123</td>\n",
       "    </tr>\n",
       "    <tr>\n",
       "      <th>1</th>\n",
       "      <td>102</td>\n",
       "      <td>Medium</td>\n",
       "      <td>yes</td>\n",
       "      <td>9</td>\n",
       "    </tr>\n",
       "    <tr>\n",
       "      <th>2</th>\n",
       "      <td>103</td>\n",
       "      <td>High</td>\n",
       "      <td>no</td>\n",
       "      <td>32</td>\n",
       "    </tr>\n",
       "    <tr>\n",
       "      <th>3</th>\n",
       "      <td>104</td>\n",
       "      <td>Low</td>\n",
       "      <td>yes</td>\n",
       "      <td>214</td>\n",
       "    </tr>\n",
       "  </tbody>\n",
       "</table>\n",
       "</div>"
      ],
      "text/plain": [
       "  customerID category first_visit  sales\n",
       "0        101   Medium         yes    123\n",
       "1        102   Medium         yes      9\n",
       "2        103     High          no     32\n",
       "3        104      Low         yes    214"
      ]
     },
     "execution_count": 101,
     "metadata": {},
     "output_type": "execute_result"
    }
   ],
   "source": [
    "data_cust = pd.DataFrame({'customerID':[\"101\",\"102\",\"103\",\"104\"],\n",
    "                          \"category\":['Medium','Medium','High','Low'],\n",
    "                          'first_visit': ['yes','yes','no','yes'],\n",
    "                          'sales':[123,9,32,214]})\n",
    "data_cust"
   ]
  },
  {
   "cell_type": "code",
   "execution_count": null,
   "id": "beb0e551-0ee2-4740-9d02-3f1d664e1206",
   "metadata": {},
   "outputs": [],
   "source": [
    "data_cust_new = pd.DataFrame({'customerID':[\"101\",\"102\",\"103\",\"104\"],\n",
    "                          \"category\":['Medium','Medium','High','Low'],\n",
    "                          'first_visit': ['yes','yes','no','yes'],\n",
    "                          'sales':[123,9,32,214]})\n",
    "data_cust_new"
   ]
  },
  {
   "cell_type": "code",
   "execution_count": null,
   "id": "becf1f24-0fd1-46e5-b320-9526987b1be9",
   "metadata": {},
   "outputs": [],
   "source": [
    "merged_data_cust = pd.\n"
   ]
  },
  {
   "cell_type": "code",
   "execution_count": 106,
   "id": "1fc9b8ac-7c0d-4ff4-85aa-9cee0ab3b7d7",
   "metadata": {},
   "outputs": [
    {
     "data": {
      "text/html": [
       "<div>\n",
       "<style scoped>\n",
       "    .dataframe tbody tr th:only-of-type {\n",
       "        vertical-align: middle;\n",
       "    }\n",
       "\n",
       "    .dataframe tbody tr th {\n",
       "        vertical-align: top;\n",
       "    }\n",
       "\n",
       "    .dataframe thead th {\n",
       "        text-align: right;\n",
       "    }\n",
       "</style>\n",
       "<table border=\"1\" class=\"dataframe\">\n",
       "  <thead>\n",
       "    <tr style=\"text-align: right;\">\n",
       "      <th></th>\n",
       "      <th>ORDERNUMBER</th>\n",
       "      <th>QUANTITYORDERED</th>\n",
       "      <th>PRICEEACH</th>\n",
       "      <th>ORDERLINENUMBER</th>\n",
       "      <th>SALES</th>\n",
       "      <th>ORDERDATE</th>\n",
       "      <th>STATUS</th>\n",
       "      <th>QTR_ID</th>\n",
       "      <th>MONTH_ID</th>\n",
       "      <th>YEAR_ID</th>\n",
       "      <th>...</th>\n",
       "      <th>ADDRESSLINE1</th>\n",
       "      <th>ADDRESSLINE2</th>\n",
       "      <th>CITY</th>\n",
       "      <th>STATE</th>\n",
       "      <th>POSTALCODE</th>\n",
       "      <th>COUNTRY</th>\n",
       "      <th>TERRITORY</th>\n",
       "      <th>CONTACTLASTNAME</th>\n",
       "      <th>CONTACTFIRSTNAME</th>\n",
       "      <th>DEALSIZE</th>\n",
       "    </tr>\n",
       "  </thead>\n",
       "  <tbody>\n",
       "    <tr>\n",
       "      <th>0</th>\n",
       "      <td>10107</td>\n",
       "      <td>30</td>\n",
       "      <td>95.70</td>\n",
       "      <td>2</td>\n",
       "      <td>2871.00</td>\n",
       "      <td>2/24/2003 0:00</td>\n",
       "      <td>Shipped</td>\n",
       "      <td>1</td>\n",
       "      <td>2</td>\n",
       "      <td>2003</td>\n",
       "      <td>...</td>\n",
       "      <td>897 Long Airport Avenue</td>\n",
       "      <td>NaN</td>\n",
       "      <td>NYC</td>\n",
       "      <td>NY</td>\n",
       "      <td>10022</td>\n",
       "      <td>USA</td>\n",
       "      <td>NaN</td>\n",
       "      <td>Yu</td>\n",
       "      <td>Kwai</td>\n",
       "      <td>Small</td>\n",
       "    </tr>\n",
       "    <tr>\n",
       "      <th>1</th>\n",
       "      <td>10121</td>\n",
       "      <td>34</td>\n",
       "      <td>81.35</td>\n",
       "      <td>5</td>\n",
       "      <td>2765.90</td>\n",
       "      <td>5/7/2003 0:00</td>\n",
       "      <td>Shipped</td>\n",
       "      <td>2</td>\n",
       "      <td>5</td>\n",
       "      <td>2003</td>\n",
       "      <td>...</td>\n",
       "      <td>59 rue de l'Abbaye</td>\n",
       "      <td>NaN</td>\n",
       "      <td>Reims</td>\n",
       "      <td>NaN</td>\n",
       "      <td>51100</td>\n",
       "      <td>France</td>\n",
       "      <td>EMEA</td>\n",
       "      <td>Henriot</td>\n",
       "      <td>Paul</td>\n",
       "      <td>Small</td>\n",
       "    </tr>\n",
       "    <tr>\n",
       "      <th>2</th>\n",
       "      <td>10134</td>\n",
       "      <td>41</td>\n",
       "      <td>94.74</td>\n",
       "      <td>2</td>\n",
       "      <td>3884.34</td>\n",
       "      <td>7/1/2003 0:00</td>\n",
       "      <td>Shipped</td>\n",
       "      <td>3</td>\n",
       "      <td>7</td>\n",
       "      <td>2003</td>\n",
       "      <td>...</td>\n",
       "      <td>27 rue du Colonel Pierre Avia</td>\n",
       "      <td>NaN</td>\n",
       "      <td>Paris</td>\n",
       "      <td>NaN</td>\n",
       "      <td>75508</td>\n",
       "      <td>France</td>\n",
       "      <td>EMEA</td>\n",
       "      <td>Da Cunha</td>\n",
       "      <td>Daniel</td>\n",
       "      <td>Medium</td>\n",
       "    </tr>\n",
       "    <tr>\n",
       "      <th>3</th>\n",
       "      <td>10145</td>\n",
       "      <td>45</td>\n",
       "      <td>83.26</td>\n",
       "      <td>6</td>\n",
       "      <td>3746.70</td>\n",
       "      <td>8/25/2003 0:00</td>\n",
       "      <td>Shipped</td>\n",
       "      <td>3</td>\n",
       "      <td>8</td>\n",
       "      <td>2003</td>\n",
       "      <td>...</td>\n",
       "      <td>78934 Hillside Dr.</td>\n",
       "      <td>NaN</td>\n",
       "      <td>Pasadena</td>\n",
       "      <td>CA</td>\n",
       "      <td>90003</td>\n",
       "      <td>USA</td>\n",
       "      <td>NaN</td>\n",
       "      <td>Young</td>\n",
       "      <td>Julie</td>\n",
       "      <td>Medium</td>\n",
       "    </tr>\n",
       "    <tr>\n",
       "      <th>4</th>\n",
       "      <td>10159</td>\n",
       "      <td>49</td>\n",
       "      <td>100.00</td>\n",
       "      <td>14</td>\n",
       "      <td>5205.27</td>\n",
       "      <td>10/10/2003 0:00</td>\n",
       "      <td>Shipped</td>\n",
       "      <td>4</td>\n",
       "      <td>10</td>\n",
       "      <td>2003</td>\n",
       "      <td>...</td>\n",
       "      <td>7734 Strong St.</td>\n",
       "      <td>NaN</td>\n",
       "      <td>San Francisco</td>\n",
       "      <td>CA</td>\n",
       "      <td>NaN</td>\n",
       "      <td>USA</td>\n",
       "      <td>NaN</td>\n",
       "      <td>Brown</td>\n",
       "      <td>Julie</td>\n",
       "      <td>Medium</td>\n",
       "    </tr>\n",
       "  </tbody>\n",
       "</table>\n",
       "<p>5 rows × 25 columns</p>\n",
       "</div>"
      ],
      "text/plain": [
       "   ORDERNUMBER  QUANTITYORDERED  PRICEEACH  ORDERLINENUMBER    SALES  \\\n",
       "0        10107               30      95.70                2  2871.00   \n",
       "1        10121               34      81.35                5  2765.90   \n",
       "2        10134               41      94.74                2  3884.34   \n",
       "3        10145               45      83.26                6  3746.70   \n",
       "4        10159               49     100.00               14  5205.27   \n",
       "\n",
       "         ORDERDATE   STATUS  QTR_ID  MONTH_ID  YEAR_ID  ...  \\\n",
       "0   2/24/2003 0:00  Shipped       1         2     2003  ...   \n",
       "1    5/7/2003 0:00  Shipped       2         5     2003  ...   \n",
       "2    7/1/2003 0:00  Shipped       3         7     2003  ...   \n",
       "3   8/25/2003 0:00  Shipped       3         8     2003  ...   \n",
       "4  10/10/2003 0:00  Shipped       4        10     2003  ...   \n",
       "\n",
       "                    ADDRESSLINE1  ADDRESSLINE2           CITY STATE  \\\n",
       "0        897 Long Airport Avenue           NaN            NYC    NY   \n",
       "1             59 rue de l'Abbaye           NaN          Reims   NaN   \n",
       "2  27 rue du Colonel Pierre Avia           NaN          Paris   NaN   \n",
       "3             78934 Hillside Dr.           NaN       Pasadena    CA   \n",
       "4                7734 Strong St.           NaN  San Francisco    CA   \n",
       "\n",
       "  POSTALCODE COUNTRY TERRITORY CONTACTLASTNAME CONTACTFIRSTNAME DEALSIZE  \n",
       "0      10022     USA       NaN              Yu             Kwai    Small  \n",
       "1      51100  France      EMEA         Henriot             Paul    Small  \n",
       "2      75508  France      EMEA        Da Cunha           Daniel   Medium  \n",
       "3      90003     USA       NaN           Young            Julie   Medium  \n",
       "4        NaN     USA       NaN           Brown            Julie   Medium  \n",
       "\n",
       "[5 rows x 25 columns]"
      ]
     },
     "execution_count": 106,
     "metadata": {},
     "output_type": "execute_result"
    }
   ],
   "source": [
    "df1 = pd.read_csv('sales_data_sample.csv', encoding='ISO-8859-1')\n",
    "df1.head()"
   ]
  }
 ],
 "metadata": {
  "kernelspec": {
   "display_name": "Python 3 (ipykernel)",
   "language": "python",
   "name": "python3"
  },
  "language_info": {
   "codemirror_mode": {
    "name": "ipython",
    "version": 3
   },
   "file_extension": ".py",
   "mimetype": "text/x-python",
   "name": "python",
   "nbconvert_exporter": "python",
   "pygments_lexer": "ipython3",
   "version": "3.12.4"
  }
 },
 "nbformat": 4,
 "nbformat_minor": 5
}

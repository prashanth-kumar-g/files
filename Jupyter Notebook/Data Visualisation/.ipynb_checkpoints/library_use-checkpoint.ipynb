{
 "cells": [
  {
   "cell_type": "code",
   "execution_count": 5,
   "id": "d910c63a-a9f4-4d6e-8c3d-73d854ddd053",
   "metadata": {},
   "outputs": [],
   "source": [
    "scores = [10,20,30,40,50,60,70,80,90,60,50,30,60,50,70,20,80,100]"
   ]
  },
  {
   "cell_type": "code",
   "execution_count": 2,
   "id": "a895033a-cad8-4ebf-8576-eb1fc00d2691",
   "metadata": {},
   "outputs": [],
   "source": [
    "from collections import Counter"
   ]
  },
  {
   "cell_type": "code",
   "execution_count": 6,
   "id": "d24af714-9e1d-4ef5-8d65-ca6d6e135fdc",
   "metadata": {},
   "outputs": [],
   "source": [
    "frequency = Counter(scores)"
   ]
  },
  {
   "cell_type": "code",
   "execution_count": 7,
   "id": "71033def-67c4-423a-8550-cd4f15e64c41",
   "metadata": {},
   "outputs": [
    {
     "name": "stdout",
     "output_type": "stream",
     "text": [
      "Counter({50: 3, 60: 3, 20: 2, 30: 2, 70: 2, 80: 2, 10: 1, 40: 1, 90: 1, 100: 1})\n"
     ]
    }
   ],
   "source": [
    "print(frequency)"
   ]
  },
  {
   "cell_type": "code",
   "execution_count": 13,
   "id": "32eacf83-5ef3-4641-a3a4-ed4c84d69275",
   "metadata": {},
   "outputs": [
    {
     "name": "stdout",
     "output_type": "stream",
     "text": [
      " scores frequency\n",
      " 10 \t 1\n",
      " 20 \t 2\n",
      " 30 \t 2\n",
      " 40 \t 1\n",
      " 50 \t 3\n",
      " 60 \t 3\n",
      " 70 \t 2\n",
      " 80 \t 2\n",
      " 90 \t 1\n",
      " 100 \t 1\n"
     ]
    }
   ],
   "source": [
    "print(\" scores frequency\")\n",
    "for scores in sorted(frequency):\n",
    "    print(f\" {scores} \\t {frequency[scores]}\")"
   ]
  },
  {
   "cell_type": "code",
   "execution_count": 16,
   "id": "291c7b17-7183-4250-a365-bf90a95141c4",
   "metadata": {},
   "outputs": [],
   "source": [
    "import statistics"
   ]
  },
  {
   "cell_type": "code",
   "execution_count": 18,
   "id": "6ea8962d-0fe0-4070-ba66-8eeecf2f45bb",
   "metadata": {},
   "outputs": [],
   "source": [
    "from scipy.stats import gmean, hmean"
   ]
  },
  {
   "cell_type": "code",
   "execution_count": 36,
   "id": "e32b5377-3a9e-427a-a41b-172b66713d3f",
   "metadata": {},
   "outputs": [],
   "source": [
    "values = [12, 14 ,16, 12, 18, 20, 22, 24, 26]"
   ]
  },
  {
   "cell_type": "code",
   "execution_count": 37,
   "id": "aebf030f-287f-4132-907c-8ddcdbaf6697",
   "metadata": {},
   "outputs": [],
   "source": [
    "A_mean = sum(values) / len(values)"
   ]
  },
  {
   "cell_type": "code",
   "execution_count": 38,
   "id": "5d702a96-7ea3-487a-a2ce-99d51c3445eb",
   "metadata": {},
   "outputs": [],
   "source": [
    "G_mean = gmean(values)"
   ]
  },
  {
   "cell_type": "code",
   "execution_count": 39,
   "id": "c5615d17-f3d8-40d5-ac37-d9c292c5f696",
   "metadata": {},
   "outputs": [],
   "source": [
    "H_mean = hmean(values)"
   ]
  },
  {
   "cell_type": "code",
   "execution_count": 40,
   "id": "ea4fbc8d-3c32-4a47-bc5f-762bb13e3e40",
   "metadata": {},
   "outputs": [
    {
     "name": "stdout",
     "output_type": "stream",
     "text": [
      "Aithmetic Mean: 18.22 \n",
      "Geometric Mean: 17.57 \n",
      "Harmonic Mean: 16.93\n"
     ]
    }
   ],
   "source": [
    "print(f\"Aithmetic Mean: {A_mean:.2f} \\nGeometric Mean: {G_mean:.2f} \\nHarmonic Mean: {H_mean:.2f}\")"
   ]
  },
  {
   "cell_type": "code",
   "execution_count": 41,
   "id": "002aecea-e099-43f3-a2e3-c486a3a044f7",
   "metadata": {},
   "outputs": [],
   "source": [
    "median_value = statistics.median(values)"
   ]
  },
  {
   "cell_type": "code",
   "execution_count": 42,
   "id": "2418f7dc-7f9e-408d-9e94-b3ef4a3fc034",
   "metadata": {},
   "outputs": [],
   "source": [
    "mode_value = statistics.mode(values)"
   ]
  },
  {
   "cell_type": "code",
   "execution_count": 43,
   "id": "2251a491-fba6-404f-a47f-d0827617003d",
   "metadata": {},
   "outputs": [
    {
     "name": "stdout",
     "output_type": "stream",
     "text": [
      "Median: 18 \n",
      "Mode: 12\n"
     ]
    }
   ],
   "source": [
    "print(f\"Median: {median_value} \\nMode: {mode_value}\")"
   ]
  },
  {
   "cell_type": "code",
   "execution_count": 45,
   "id": "0a6287d0-da9a-4881-9719-e7e29b2efc90",
   "metadata": {},
   "outputs": [
    {
     "name": "stdout",
     "output_type": "stream",
     "text": [
      "Geometric Mean: 4.0\n"
     ]
    }
   ],
   "source": [
    "g_mean = gmean([2,4,8])\n",
    "print(f\"Geometric Mean: {g_mean}\")"
   ]
  },
  {
   "cell_type": "code",
   "execution_count": 48,
   "id": "06681674-77dd-4529-9a86-101b51c165f4",
   "metadata": {},
   "outputs": [
    {
     "name": "stdout",
     "output_type": "stream",
     "text": [
      "Geometric Mean: 140.47\n"
     ]
    }
   ],
   "source": [
    "g_mean = gmean([132,140,150])\n",
    "print(f\"Geometric Mean: {g_mean:.2f}\")"
   ]
  },
  {
   "cell_type": "code",
   "execution_count": 50,
   "id": "3b34a417-6be6-4ed8-8aa2-30c3d55a931e",
   "metadata": {},
   "outputs": [
    {
     "name": "stdout",
     "output_type": "stream",
     "text": [
      "Geometric Mean: 117.25\n"
     ]
    }
   ],
   "source": [
    "g_mean = gmean([80, 130, 155])\n",
    "print(f\"Geometric Mean: {g_mean:.2f}\")"
   ]
  },
  {
   "cell_type": "code",
   "execution_count": 57,
   "id": "30ca44e0-2231-4bef-99d7-f925920232b0",
   "metadata": {},
   "outputs": [
    {
     "name": "stdout",
     "output_type": "stream",
     "text": [
      "Arithmetic Mean: 73.86\n"
     ]
    }
   ],
   "source": [
    "a_mean = sum([71,71,71,83,83,73,73,73,73,73,75,75,70,70]) / 14\n",
    "print(f\"Arithmetic Mean: {a_mean:.2f}\")"
   ]
  },
  {
   "cell_type": "code",
   "execution_count": 56,
   "id": "95b76f4e-20fc-4ac1-88be-193629f08bbb",
   "metadata": {},
   "outputs": [
    {
     "name": "stdout",
     "output_type": "stream",
     "text": [
      "Arithmetic Mean: 74.64\n"
     ]
    }
   ],
   "source": [
    "a_mean = sum([81,81,81,81,81,76,76,76,58,58,58,76,81,81]) / 14\n",
    "print(f\"Arithmetic Mean: {a_mean:.2f}\")"
   ]
  },
  {
   "cell_type": "code",
   "execution_count": 62,
   "id": "2d10a102-d44a-4f1b-9433-ed1c31fab436",
   "metadata": {},
   "outputs": [
    {
     "name": "stdout",
     "output_type": "stream",
     "text": [
      "Frequency Sum: 200\n"
     ]
    }
   ],
   "source": [
    "dict_values = {15:2, 16:2, 17:4, 18:1, 19:1, 20:1, 21:2, 22:2, 23:2, 24:2, 25:2, 26:2, 27:3, 28:2, 29:3, 30:3, 31:4, 32:5, 33:7, 34:7, 35:5, 36:3, 37:7, 38:8, 39:9, 40:6, 41:7, 42:14, 43:5, 44:3, 45:5, 46:6, 47:4, 48:6, 49:4, 50:5, 51:4, 52:4, 53:8, 54:3, 55:3, 57:3, 58:1, 59:3, 60:1, 61:2, 62:1, 63:2, 64:2, 65:3, 67:1, 70:2, 71:1, 75:1, 78:1}\n",
    "frequency_sum = 0\n",
    "for i in dict_values.values():\n",
    "    frequency_sum = frequency_sum + i\n",
    "print(f\"Frequency Sum: {frequency_sum}\")"
   ]
  },
  {
   "cell_type": "code",
   "execution_count": null,
   "id": "62666afc-71b9-421b-86c8-0ef78dbdf901",
   "metadata": {},
   "outputs": [],
   "source": [
    "values = {15,15, 16,16, 17,17,17,17, 18, 19, 20, 21,21, 22,22, 23,23, 24,24, 25,25, 26,26, 27,27,27, 28,28, 29,29,29, 30,30,30, 31,31,31,31, 32,32,32,32,32, 33,33,33,33,33,33,33, 34,34,34,34,34,34,34, 35,35,35,35,35, 36,36,36, 37,37,37,37,37,37,37, 38,38,38,38,38,38,38,38 39,39,39,39,39,39,39,39,39 40,40,40,40,40,40, 41,41,41,41,41,41,41, 42,42,42,42,42,42,42,42,42,42,42,42,42,42, 43,43,43,43,43, 44,44,44, 45,45,45,45,45, 46,46,46,46,46,46, 47:4, 48:6, 49:4, 50:5, 51:4, 52:4, 53:8, 54:3, 55:3, 57:3, 58:1, 59:3, 60:1, 61:2, 62:1, 63:2, 64:2, 65:3, 67:1, 70:2, 71:1, 75:1, 78:1}\n"
   ]
  }
 ],
 "metadata": {
  "kernelspec": {
   "display_name": "Python 3 (ipykernel)",
   "language": "python",
   "name": "python3"
  },
  "language_info": {
   "codemirror_mode": {
    "name": "ipython",
    "version": 3
   },
   "file_extension": ".py",
   "mimetype": "text/x-python",
   "name": "python",
   "nbconvert_exporter": "python",
   "pygments_lexer": "ipython3",
   "version": "3.12.4"
  }
 },
 "nbformat": 4,
 "nbformat_minor": 5
}

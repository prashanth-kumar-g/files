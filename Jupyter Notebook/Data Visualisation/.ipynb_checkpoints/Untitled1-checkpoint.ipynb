{
 "cells": [
  {
   "cell_type": "code",
   "execution_count": 22,
   "id": "8db8ef22-5b3c-496a-8d7a-f9a973cad702",
   "metadata": {},
   "outputs": [],
   "source": [
    "import numpy\n",
    "from numpy.random import rand\n",
    "from numpy.random import randint"
   ]
  },
  {
   "cell_type": "code",
   "execution_count": 6,
   "id": "0acba863-8884-43fb-9693-ffe20f9a449d",
   "metadata": {},
   "outputs": [
    {
     "name": "stdout",
     "output_type": "stream",
     "text": [
      "0\n",
      "1\n",
      "2\n",
      "3\n",
      "4\n",
      "5\n",
      "6\n",
      "7\n",
      "8\n",
      "9\n"
     ]
    }
   ],
   "source": [
    "for i in range(10):\n",
    "    print(i)"
   ]
  },
  {
   "cell_type": "code",
   "execution_count": 9,
   "id": "d2f06288-dd8a-4ac1-99b7-adaa38e89af1",
   "metadata": {},
   "outputs": [
    {
     "name": "stdout",
     "output_type": "stream",
     "text": [
      "9\n",
      "8\n",
      "7\n",
      "6\n",
      "5\n",
      "4\n",
      "3\n",
      "2\n",
      "1\n",
      "0\n"
     ]
    }
   ],
   "source": [
    "for i in range(9,-1,-1):\n",
    "    print(i)"
   ]
  },
  {
   "cell_type": "code",
   "execution_count": 21,
   "id": "755ad9d6-b3a9-41e8-acf6-77cc78e98039",
   "metadata": {},
   "outputs": [
    {
     "data": {
      "text/plain": [
       "[68, 38, 59, 6, 47, 22, 39, 25, 0, 13]"
      ]
     },
     "execution_count": 21,
     "metadata": {},
     "output_type": "execute_result"
    }
   ],
   "source": [
    "a = []\n",
    "for i in range(10):\n",
    "    a.append(randint(100))\n",
    "a"
   ]
  },
  {
   "cell_type": "code",
   "execution_count": 39,
   "id": "3b6b1a6e-ff96-4e5e-8ec2-ff600d8091fc",
   "metadata": {},
   "outputs": [
    {
     "name": "stdin",
     "output_type": "stream",
     "text": [
      "Enter the limit :  50\n"
     ]
    },
    {
     "name": "stdout",
     "output_type": "stream",
     "text": [
      "2 3 5 7 11 13 17 19 23 29 31 37 41 43 47 "
     ]
    }
   ],
   "source": [
    "n = int(input(\"Enter the limit : \"))\n",
    "for i in range(2,n+1,1):\n",
    "    flag = 1\n",
    "    for j in range(2,i,1):\n",
    "        if i % j == 0:\n",
    "            flag = 0\n",
    "            break\n",
    "    if flag == 1:\n",
    "        print(i, end = \" \")"
   ]
  },
  {
   "cell_type": "code",
   "execution_count": 40,
   "id": "bda25fea-6136-4bbc-b25a-32304e24ac66",
   "metadata": {},
   "outputs": [
    {
     "name": "stdin",
     "output_type": "stream",
     "text": [
      "Enter the limit :  50\n"
     ]
    },
    {
     "name": "stdout",
     "output_type": "stream",
     "text": [
      "2 3 5 7 11 13 17 19 23 29 31 37 41 43 47 "
     ]
    }
   ],
   "source": [
    "n = int(input(\"Enter the limit : \"))\n",
    "i = 2\n",
    "while i < n+1:\n",
    "    flag = 1\n",
    "    j = 2\n",
    "    while j < i:\n",
    "        if i % j == 0:\n",
    "            flag = 0\n",
    "            break\n",
    "        j = j + 1\n",
    "    if flag == 1:\n",
    "        print(i, end = \" \")\n",
    "    i = i + 1"
   ]
  }
 ],
 "metadata": {
  "kernelspec": {
   "display_name": "Python 3 (ipykernel)",
   "language": "python",
   "name": "python3"
  },
  "language_info": {
   "codemirror_mode": {
    "name": "ipython",
    "version": 3
   },
   "file_extension": ".py",
   "mimetype": "text/x-python",
   "name": "python",
   "nbconvert_exporter": "python",
   "pygments_lexer": "ipython3",
   "version": "3.12.4"
  }
 },
 "nbformat": 4,
 "nbformat_minor": 5
}

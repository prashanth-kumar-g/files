{
 "cells": [
  {
   "cell_type": "code",
   "execution_count": 5,
   "id": "d910c63a-a9f4-4d6e-8c3d-73d854ddd053",
   "metadata": {},
   "outputs": [],
   "source": [
    "scores = [10,20,30,40,50,60,70,80,90,60,50,30,60,50,70,20,80,100]"
   ]
  },
  {
   "cell_type": "code",
   "execution_count": null,
   "id": "97f029a0-a835-4c85-acbc-8cbbf23522aa",
   "metadata": {},
   "outputs": [],
   "source": []
  },
  {
   "cell_type": "code",
   "execution_count": 2,
   "id": "a895033a-cad8-4ebf-8576-eb1fc00d2691",
   "metadata": {},
   "outputs": [],
   "source": [
    "from collections import Counter"
   ]
  },
  {
   "cell_type": "code",
   "execution_count": 6,
   "id": "d24af714-9e1d-4ef5-8d65-ca6d6e135fdc",
   "metadata": {},
   "outputs": [],
   "source": [
    "frequency = Counter(scores)"
   ]
  },
  {
   "cell_type": "code",
   "execution_count": 7,
   "id": "71033def-67c4-423a-8550-cd4f15e64c41",
   "metadata": {},
   "outputs": [
    {
     "name": "stdout",
     "output_type": "stream",
     "text": [
      "Counter({50: 3, 60: 3, 20: 2, 30: 2, 70: 2, 80: 2, 10: 1, 40: 1, 90: 1, 100: 1})\n"
     ]
    }
   ],
   "source": [
    "print(frequency)"
   ]
  },
  {
   "cell_type": "code",
   "execution_count": 13,
   "id": "32eacf83-5ef3-4641-a3a4-ed4c84d69275",
   "metadata": {},
   "outputs": [
    {
     "name": "stdout",
     "output_type": "stream",
     "text": [
      " scores frequency\n",
      " 10 \t 1\n",
      " 20 \t 2\n",
      " 30 \t 2\n",
      " 40 \t 1\n",
      " 50 \t 3\n",
      " 60 \t 3\n",
      " 70 \t 2\n",
      " 80 \t 2\n",
      " 90 \t 1\n",
      " 100 \t 1\n"
     ]
    }
   ],
   "source": [
    "print(\" scores frequency\")\n",
    "for scores in sorted(frequency):\n",
    "    print(f\" {scores} \\t {frequency[scores]}\")"
   ]
  },
  {
   "cell_type": "code",
   "execution_count": 5,
   "id": "291c7b17-7183-4250-a365-bf90a95141c4",
   "metadata": {},
   "outputs": [],
   "source": [
    "import statistics"
   ]
  },
  {
   "cell_type": "code",
   "execution_count": 18,
   "id": "6ea8962d-0fe0-4070-ba66-8eeecf2f45bb",
   "metadata": {},
   "outputs": [],
   "source": [
    "from scipy.stats import gmean, hmean"
   ]
  },
  {
   "cell_type": "code",
   "execution_count": 36,
   "id": "e32b5377-3a9e-427a-a41b-172b66713d3f",
   "metadata": {},
   "outputs": [],
   "source": [
    "values = [12, 14 ,16, 12, 18, 20, 22, 24, 26]"
   ]
  },
  {
   "cell_type": "code",
   "execution_count": 37,
   "id": "aebf030f-287f-4132-907c-8ddcdbaf6697",
   "metadata": {},
   "outputs": [],
   "source": [
    "A_mean = sum(values) / len(values)"
   ]
  },
  {
   "cell_type": "code",
   "execution_count": 38,
   "id": "5d702a96-7ea3-487a-a2ce-99d51c3445eb",
   "metadata": {},
   "outputs": [],
   "source": [
    "G_mean = gmean(values)"
   ]
  },
  {
   "cell_type": "code",
   "execution_count": 39,
   "id": "c5615d17-f3d8-40d5-ac37-d9c292c5f696",
   "metadata": {},
   "outputs": [],
   "source": [
    "H_mean = hmean(values)"
   ]
  },
  {
   "cell_type": "code",
   "execution_count": 40,
   "id": "ea4fbc8d-3c32-4a47-bc5f-762bb13e3e40",
   "metadata": {},
   "outputs": [
    {
     "name": "stdout",
     "output_type": "stream",
     "text": [
      "Aithmetic Mean: 18.22 \n",
      "Geometric Mean: 17.57 \n",
      "Harmonic Mean: 16.93\n"
     ]
    }
   ],
   "source": [
    "print(f\"Aithmetic Mean: {A_mean:.2f} \\nGeometric Mean: {G_mean:.2f} \\nHarmonic Mean: {H_mean:.2f}\")"
   ]
  },
  {
   "cell_type": "code",
   "execution_count": 41,
   "id": "002aecea-e099-43f3-a2e3-c486a3a044f7",
   "metadata": {},
   "outputs": [],
   "source": [
    "median_value = statistics.median(values)"
   ]
  },
  {
   "cell_type": "code",
   "execution_count": 42,
   "id": "2418f7dc-7f9e-408d-9e94-b3ef4a3fc034",
   "metadata": {},
   "outputs": [],
   "source": [
    "mode_value = statistics.mode(values)"
   ]
  },
  {
   "cell_type": "code",
   "execution_count": 43,
   "id": "2251a491-fba6-404f-a47f-d0827617003d",
   "metadata": {},
   "outputs": [
    {
     "name": "stdout",
     "output_type": "stream",
     "text": [
      "Median: 18 \n",
      "Mode: 12\n"
     ]
    }
   ],
   "source": [
    "print(f\"Median: {median_value} \\nMode: {mode_value}\")"
   ]
  },
  {
   "cell_type": "code",
   "execution_count": 45,
   "id": "0a6287d0-da9a-4881-9719-e7e29b2efc90",
   "metadata": {},
   "outputs": [
    {
     "name": "stdout",
     "output_type": "stream",
     "text": [
      "Geometric Mean: 4.0\n"
     ]
    }
   ],
   "source": [
    "g_mean = gmean([2,4,8])\n",
    "print(f\"Geometric Mean: {g_mean}\")"
   ]
  },
  {
   "cell_type": "code",
   "execution_count": 48,
   "id": "06681674-77dd-4529-9a86-101b51c165f4",
   "metadata": {},
   "outputs": [
    {
     "name": "stdout",
     "output_type": "stream",
     "text": [
      "Geometric Mean: 140.47\n"
     ]
    }
   ],
   "source": [
    "g_mean = gmean([132,140,150])\n",
    "print(f\"Geometric Mean: {g_mean:.2f}\")"
   ]
  },
  {
   "cell_type": "code",
   "execution_count": 50,
   "id": "3b34a417-6be6-4ed8-8aa2-30c3d55a931e",
   "metadata": {},
   "outputs": [
    {
     "name": "stdout",
     "output_type": "stream",
     "text": [
      "Geometric Mean: 117.25\n"
     ]
    }
   ],
   "source": [
    "g_mean = gmean([80, 130, 155])\n",
    "print(f\"Geometric Mean: {g_mean:.2f}\")"
   ]
  },
  {
   "cell_type": "code",
   "execution_count": 57,
   "id": "30ca44e0-2231-4bef-99d7-f925920232b0",
   "metadata": {},
   "outputs": [
    {
     "name": "stdout",
     "output_type": "stream",
     "text": [
      "Arithmetic Mean: 73.86\n"
     ]
    }
   ],
   "source": [
    "a_mean = sum([71,71,71,83,83,73,73,73,73,73,75,75,70,70]) / 14\n",
    "print(f\"Arithmetic Mean: {a_mean:.2f}\")"
   ]
  },
  {
   "cell_type": "code",
   "execution_count": 56,
   "id": "95b76f4e-20fc-4ac1-88be-193629f08bbb",
   "metadata": {},
   "outputs": [
    {
     "name": "stdout",
     "output_type": "stream",
     "text": [
      "Arithmetic Mean: 74.64\n"
     ]
    }
   ],
   "source": [
    "a_mean = sum([81,81,81,81,81,76,76,76,58,58,58,76,81,81]) / 14\n",
    "print(f\"Arithmetic Mean: {a_mean:.2f}\")"
   ]
  },
  {
   "cell_type": "code",
   "execution_count": 62,
   "id": "2d10a102-d44a-4f1b-9433-ed1c31fab436",
   "metadata": {},
   "outputs": [
    {
     "name": "stdout",
     "output_type": "stream",
     "text": [
      "Frequency Sum: 200\n"
     ]
    }
   ],
   "source": [
    "dict_values = {15:2, 16:2, 17:4, 18:1, 19:1, 20:1, 21:2, 22:2, 23:2, 24:2, 25:2, 26:2, 27:3, 28:2, 29:3, 30:3, 31:4, 32:5, 33:7, 34:7, 35:5, 36:3, 37:7, 38:8, 39:9, 40:6, 41:7, 42:14, 43:5, 44:3, 45:5, 46:6, 47:4, 48:6, 49:4, 50:5, 51:4, 52:4, 53:8, 54:3, 55:3, 57:3, 58:1, 59:3, 60:1, 61:2, 62:1, 63:2, 64:2, 65:3, 67:1, 70:2, 71:1, 75:1, 78:1}\n",
    "frequency_sum = 0\n",
    "for i in dict_values.values():\n",
    "    frequency_sum = frequency_sum + i\n",
    "print(f\"Frequency Sum: {frequency_sum}\")"
   ]
  },
  {
   "cell_type": "code",
   "execution_count": null,
   "id": "62666afc-71b9-421b-86c8-0ef78dbdf901",
   "metadata": {},
   "outputs": [],
   "source": [
    "values = {15,15, 16,16, 17,17,17,17, 18, 19, 20, 21,21, 22,22, 23,23, 24,24, 25,25, 26,26, 27,27,27, 28,28, 29,29,29, 30,30,30, 31,31,31,31, 32,32,32,32,32, 33,33,33,33,33,33,33, 34,34,34,34,34,34,34, 35,35,35,35,35, 36,36,36, 37,37,37,37,37,37,37, 38,38,38,38,38,38,38,38 39,39,39,39,39,39,39,39,39 40,40,40,40,40,40, 41,41,41,41,41,41,41, 42,42,42,42,42,42,42,42,42,42,42,42,42,42, 43,43,43,43,43, 44,44,44, 45,45,45,45,45, 46,46,46,46,46,46, 47:4, 48:6, 49:4, 50:5, 51:4, 52:4, 53:8, 54:3, 55:3, 57:3, 58:1, 59:3, 60:1, 61:2, 62:1, 63:2, 64:2, 65:3, 67:1, 70:2, 71:1, 75:1, 78:1}\n"
   ]
  },
  {
   "cell_type": "code",
   "execution_count": 20,
   "id": "25387af8-fbbb-473f-99ec-356e94a18078",
   "metadata": {},
   "outputs": [
    {
     "name": "stdout",
     "output_type": "stream",
     "text": [
      "Classes :  ['Counter', 'Decimal', 'Fraction', 'LinearRegression', 'NormalDist', 'StatisticsError', 'count', 'defaultdict', 'groupby', 'itemgetter', 'repeat'] \n",
      "\n",
      "Functions :  ['_coerce', '_convert', '_decimal_sqrt_of_frac', '_exact_ratio', '_fail_neg', '_float_sqrt_of_frac', '_integer_sqrt_of_frac_rto', '_isfinite', '_mean_stdev', '_normal_dist_inv_cdf', '_rank', '_ss', '_sum', 'bisect_left', 'bisect_right', 'correlation', 'covariance', 'erf', 'exp', 'fabs', 'fmean', 'fsum', 'geometric_mean', 'harmonic_mean', 'hypot', 'linear_regression', 'log', 'mean', 'median', 'median_grouped', 'median_high', 'median_low', 'mode', 'multimode', 'namedtuple', 'pstdev', 'pvariance', 'quantiles', 'reduce', 'sqrt', 'stdev', 'sumprod', 'variance'] \n",
      "\n",
      "Modules :  ['math', 'numbers', 'random', 'sys'] \n",
      "\n",
      "Others :  ['_SQRT2', '__all__', '__annotations__', '__builtins__', '__cached__', '__doc__', '__file__', '__loader__', '__name__', '__package__', '__spec__', '_sqrt_bit_width', 'tau']\n"
     ]
    }
   ],
   "source": [
    "import statistics\n",
    "import inspect\n",
    "\n",
    "classes_list = []\n",
    "functions_list = []\n",
    "modules_list = []\n",
    "others_list = []\n",
    "\n",
    "for name in dir(statistics):\n",
    "    obj = getattr(statistics, name)\n",
    "    if inspect.isclass(obj):\n",
    "        classes_list.append(name) \n",
    "    elif inspect.isfunction(obj) or inspect.isbuiltin(obj):\n",
    "        functions_list.append(name)\n",
    "    elif inspect.ismodule(obj):\n",
    "        modules_list.append(name)\n",
    "    else:\n",
    "        others_list.append(name)\n",
    "        \n",
    "print(\"Classes : \", classes_list,\"\\n\")\n",
    "print(\"Functions : \", functions_list,\"\\n\")\n",
    "print(\"Modules : \", modules_list,\"\\n\")\n",
    "print(\"Others : \", others_list)"
   ]
  },
  {
   "cell_type": "code",
   "execution_count": 21,
   "id": "76e7e080-5014-409f-9f05-805ac15f2ad4",
   "metadata": {},
   "outputs": [
    {
     "name": "stdout",
     "output_type": "stream",
     "text": [
      "Classes :  ['Counter', 'Decimal', 'Fraction', 'LinearRegression', 'NormalDist', 'StatisticsError', 'count', 'defaultdict', 'groupby', 'itemgetter', 'repeat'] \n",
      "\n",
      "Functions :  ['_coerce', '_convert', '_decimal_sqrt_of_frac', '_exact_ratio', '_fail_neg', '_float_sqrt_of_frac', '_integer_sqrt_of_frac_rto', '_isfinite', '_mean_stdev', '_normal_dist_inv_cdf', '_rank', '_ss', '_sum', 'bisect_left', 'bisect_right', 'correlation', 'covariance', 'erf', 'exp', 'fabs', 'fmean', 'fsum', 'geometric_mean', 'harmonic_mean', 'hypot', 'linear_regression', 'log', 'mean', 'median', 'median_grouped', 'median_high', 'median_low', 'mode', 'multimode', 'namedtuple', 'pstdev', 'pvariance', 'quantiles', 'reduce', 'sqrt', 'stdev', 'sumprod', 'variance'] \n",
      "\n",
      "Modules :  ['math', 'numbers', 'random', 'sys'] \n",
      "\n",
      "Others :  []\n"
     ]
    }
   ],
   "source": [
    "import statistics\n",
    "import inspect\n",
    "\n",
    "classes_list = []\n",
    "functions_list = []\n",
    "modules_list = []\n",
    "others_list = []\n",
    "\n",
    "for name in dir(statistics):\n",
    "    obj = getattr(statistics, name)\n",
    "    if inspect.isclass(obj):\n",
    "        classes_list.append(name) \n",
    "    elif inspect.isfunction(obj) or inspect.isbuiltin(obj):\n",
    "        functions_list.append(name)\n",
    "    elif inspect.ismodule(obj):\n",
    "        modules_list.append(name)\n",
    "    else:\n",
    "        variables_list.append(name)\n",
    "        \n",
    "print(\"Classes : \", classes_list,\"\\n\")\n",
    "print(\"Functions : \", functions_list,\"\\n\")\n",
    "print(\"Modules : \", modules_list,\"\\n\")\n",
    "print(\"Others : \", others_list)"
   ]
  },
  {
   "cell_type": "code",
   "execution_count": 17,
   "id": "88ff466d-ec0f-4db9-8eed-8fc55c83fa4d",
   "metadata": {},
   "outputs": [
    {
     "name": "stdout",
     "output_type": "stream",
     "text": [
      "Classes :  ['ArrowDtype', 'BooleanDtype', 'Categorical', 'CategoricalDtype', 'CategoricalIndex', 'DataFrame', 'DateOffset', 'DatetimeIndex', 'DatetimeTZDtype', 'ExcelFile', 'ExcelWriter', 'Flags', 'Float32Dtype', 'Float64Dtype', 'Grouper', 'HDFStore', 'Index', 'Int16Dtype', 'Int32Dtype', 'Int64Dtype', 'Int8Dtype', 'Interval', 'IntervalDtype', 'IntervalIndex', 'MultiIndex', 'NamedAgg', 'Period', 'PeriodDtype', 'PeriodIndex', 'RangeIndex', 'Series', 'SparseDtype', 'StringDtype', 'Timedelta', 'TimedeltaIndex', 'Timestamp', 'UInt16Dtype', 'UInt32Dtype', 'UInt64Dtype', 'UInt8Dtype', 'option_context'] \n",
      "\n",
      "Functions :  ['array', 'bdate_range', 'concat', 'crosstab', 'cut', 'date_range', 'eval', 'factorize', 'from_dummies', 'get_dummies', 'infer_freq', 'interval_range', 'isna', 'isnull', 'json_normalize', 'lreshape', 'melt', 'merge', 'merge_asof', 'merge_ordered', 'notna', 'notnull', 'period_range', 'pivot', 'pivot_table', 'qcut', 'read_clipboard', 'read_csv', 'read_excel', 'read_feather', 'read_fwf', 'read_gbq', 'read_hdf', 'read_html', 'read_json', 'read_orc', 'read_parquet', 'read_pickle', 'read_sas', 'read_spss', 'read_sql', 'read_sql_query', 'read_sql_table', 'read_stata', 'read_table', 'read_xml', 'set_eng_float_format', 'show_versions', 'test', 'timedelta_range', 'to_datetime', 'to_numeric', 'to_pickle', 'to_timedelta', 'unique', 'value_counts', 'wide_to_long'] \n",
      "\n",
      "Modules :  ['_config', '_libs', '_testing', '_typing', '_version_meson', 'api', 'arrays', 'compat', 'core', 'errors', 'io', 'offsets', 'pandas', 'plotting', 'testing', 'tseries', 'util'] \n",
      "\n",
      "Variables or Others :  ['IndexSlice', 'NA', 'NaT', '__all__', '__builtins__', '__cached__', '__doc__', '__docformat__', '__file__', '__git_version__', '__loader__', '__name__', '__package__', '__path__', '__spec__', '__version__', '_built_with_meson', '_is_numpy_dev', '_pandas_datetime_CAPI', '_pandas_parser_CAPI', 'annotations', 'describe_option', 'get_option', 'options', 'reset_option', 'set_option']\n"
     ]
    }
   ],
   "source": [
    "import pandas\n",
    "import inspect\n",
    "\n",
    "classes_list = []\n",
    "functions_list = []\n",
    "modules_list = []\n",
    "others_list = []\n",
    "\n",
    "for name in dir(pandas):\n",
    "    obj = getattr(pandas, name)\n",
    "    if inspect.isclass(obj):\n",
    "        classes_list.append(name) \n",
    "    elif inspect.isfunction(obj) or inspect.isbuiltin(obj):\n",
    "        functions_list.append(name)\n",
    "    elif inspect.ismodule(obj):\n",
    "        modules_list.append(name)\n",
    "    else:\n",
    "        others_list.append(name)\n",
    "        \n",
    "print(\"Classes : \", classes_list,\"\\n\")\n",
    "print(\"Functions : \", functions_list,\"\\n\")\n",
    "print(\"Modules : \", modules_list,\"\\n\")\n",
    "print(\"Others : \", others_list)"
   ]
  },
  {
   "cell_type": "code",
   "execution_count": 19,
   "id": "1eda3acd-62ac-4db1-b3be-b64d5d6916bd",
   "metadata": {},
   "outputs": [
    {
     "name": "stdout",
     "output_type": "stream",
     "text": [
      "Classes :  ['ExecutableNotFoundError', 'MatplotlibDeprecationWarning', 'MutableMapping', 'Parameter', 'Path', 'RcParams', '_ExecInfo', '_VersionInfo'] \n",
      "\n",
      "Functions :  ['_add_data_doc', '_check_versions', '_get_config_or_cache_dir', '_get_version', '_get_xdg_cache_dir', '_get_xdg_config_dir', '_init_tests', '_label_from_arg', '_logged_cached', '_open_file_or_url', '_parse_to_version_info', '_preprocess_data', '_rc_params_in_file', '_replacer', '_val_or_rc', 'cycler', 'get_backend', 'get_cachedir', 'get_configdir', 'get_data_path', 'interactive', 'is_interactive', 'matplotlib_fname', 'namedtuple', 'parse_version', 'rc', 'rc_context', 'rc_file', 'rc_file_defaults', 'rc_params', 'rc_params_from_file', 'rcdefaults', 'sanitize_sequence', 'set_loglevel', 'use', 'validate_backend'] \n",
      "\n",
      "Modules :  ['_afm', '_api', '_blocking_input', '_c_internal_utils', '_cm', '_cm_listed', '_color_data', '_constrained_layout', '_docstring', '_enums', '_fontconfig_pattern', '_image', '_layoutgrid', '_mathtext', '_mathtext_data', '_path', '_pylab_helpers', '_text_helpers', '_tight_bbox', '_tight_layout', '_version', 'artist', 'atexit', 'axes', 'axis', 'backend_bases', 'backend_managers', 'backend_tools', 'backends', 'bezier', 'category', 'cbook', 'cm', 'collections', 'colorbar', 'colors', 'container', 'contextlib', 'contour', 'dates', 'dviread', 'figure', 'font_manager', 'ft2font', 'functools', 'gridspec', 'hatch', 'image', 'importlib', 'inspect', 'layout_engine', 'legend', 'legend_handler', 'lines', 'locale', 'logging', 'markers', 'mathtext', 'mlab', 'numpy', 'offsetbox', 'os', 'patches', 'path', 'pprint', 'projections', 'pyplot', 'quiver', 'rcsetup', 're', 'scale', 'shutil', 'spines', 'stackplot', 'streamplot', 'style', 'subprocess', 'sys', 'table', 'tempfile', 'texmanager', 'text', 'textpath', 'ticker', 'transforms', 'tri', 'units', 'warnings', 'widgets'] \n",
      "\n",
      "Variables or Others :  ['__all__', '__bibtex__', '__builtins__', '__cached__', '__doc__', '__file__', '__getattr__', '__loader__', '__name__', '__package__', '__path__', '__spec__', '_deprecated_ignore_map', '_deprecated_map', '_deprecated_remain_as_none', '_ensure_handler', '_get_executable_info', '_get_ssl_context', '_log', 'color_sequences', 'colormaps', 'defaultParams', 'rcParams', 'rcParamsDefault', 'rcParamsOrig']\n"
     ]
    }
   ],
   "source": [
    "import matplotlib\n",
    "import inspect\n",
    "\n",
    "classes_list = []\n",
    "functions_list = []\n",
    "modules_list = []\n",
    "others_list = []\n",
    "\n",
    "for name in dir(matplotlib):\n",
    "    obj = getattr(matplotlib, name)\n",
    "    if inspect.isclass(obj):\n",
    "        classes_list.append(name) \n",
    "    elif inspect.isfunction(obj) or inspect.isbuiltin(obj):\n",
    "        functions_list.append(name)\n",
    "    elif inspect.ismodule(obj):\n",
    "        modules_list.append(name)\n",
    "    else:\n",
    "        others_list.append(name)\n",
    "        \n",
    "print(\"Classes : \", classes_list,\"\\n\")\n",
    "print(\"Functions : \", functions_list,\"\\n\")\n",
    "print(\"Modules : \", modules_list,\"\\n\")\n",
    "print(\"Others : \", others_list)"
   ]
  },
  {
   "cell_type": "code",
   "execution_count": 22,
   "id": "c6b8dc3e-2240-4bf4-a3ad-682c46339c46",
   "metadata": {},
   "outputs": [
    {
     "name": "stdout",
     "output_type": "stream",
     "text": [
      "Classes :  ['AbstractContextManager', 'Annotation', 'Arrow', 'Artist', 'AutoLocator', 'AxLine', 'Axes', 'Button', 'Circle', 'Enum', 'ExitStack', 'Figure', 'FigureBase', 'FigureCanvasBase', 'FigureManagerBase', 'FixedFormatter', 'FixedLocator', 'FormatStrFormatter', 'Formatter', 'FuncFormatter', 'GridSpec', 'IndexLocator', 'Line2D', 'LinearLocator', 'Locator', 'LogFormatter', 'LogFormatterExponent', 'LogFormatterMathtext', 'LogLocator', 'MaxNLocator', 'MouseButton', 'MultipleLocator', 'Normalize', 'NullFormatter', 'NullLocator', 'PolarAxes', 'Polygon', 'Rectangle', 'ScalarFormatter', 'Slider', 'Subplot', 'SubplotSpec', 'Text', 'TickHelper', 'Widget', '_ReplDisplayHook', '_backend_mod'] \n",
      "\n",
      "Functions :  ['_auto_draw_if_interactive', '_copy_docstring_and_deprecators', '_draw_all_if_interactive', '_get_backend_mod', '_get_pyplot_commands', '_warn_if_gui_out_of_main_thread', 'acorr', 'angle_spectrum', 'annotate', 'arrow', 'autoscale', 'autumn', 'axes', 'axhline', 'axhspan', 'axis', 'axline', 'axvline', 'axvspan', 'bar', 'bar_label', 'barbs', 'barh', 'bone', 'box', 'boxplot', 'broken_barh', 'cast', 'cla', 'clabel', 'clf', 'clim', 'close', 'cohere', 'colorbar', 'connect', 'contour', 'contourf', 'cool', 'copper', 'csd', 'cycler', 'delaxes', 'disconnect', 'draw', 'draw_if_interactive', 'ecdf', 'errorbar', 'eventplot', 'figaspect', 'figimage', 'figlegend', 'fignum_exists', 'figtext', 'figure', 'fill', 'fill_between', 'fill_betweenx', 'findobj', 'flag', 'gca', 'gcf', 'gci', 'get', 'get_backend', 'get_cmap', 'get_current_fig_manager', 'get_figlabels', 'get_fignums', 'get_plot_commands', 'get_scale_names', 'getp', 'ginput', 'gray', 'grid', 'hexbin', 'hist', 'hist2d', 'hlines', 'hot', 'hsv', 'imread', 'imsave', 'imshow', 'inferno', 'install_repl_displayhook', 'interactive', 'ioff', 'ion', 'isinteractive', 'jet', 'legend', 'locator_params', 'loglog', 'magma', 'magnitude_spectrum', 'margins', 'matshow', 'minorticks_off', 'minorticks_on', 'new_figure_manager', 'nipy_spectral', 'overload', 'pause', 'pcolor', 'pcolormesh', 'phase_spectrum', 'pie', 'pink', 'plasma', 'plot', 'plot_date', 'polar', 'prism', 'psd', 'quiver', 'quiverkey', 'rc', 'rc_context', 'rcdefaults', 'register_cmap', 'rgrids', 'savefig', 'sca', 'scatter', 'sci', 'semilogx', 'semilogy', 'set_cmap', 'set_loglevel', 'setp', 'show', 'specgram', 'spring', 'spy', 'stackplot', 'stairs', 'stem', 'step', 'streamplot', 'subplot', 'subplot2grid', 'subplot_mosaic', 'subplot_tool', 'subplots', 'subplots_adjust', 'summer', 'suptitle', 'switch_backend', 'table', 'text', 'thetagrids', 'tick_params', 'ticklabel_format', 'tight_layout', 'title', 'tricontour', 'tricontourf', 'tripcolor', 'triplot', 'twinx', 'twiny', 'uninstall_repl_displayhook', 'violinplot', 'viridis', 'vlines', 'waitforbuttonpress', 'winter', 'xcorr', 'xkcd', 'xlabel', 'xlim', 'xscale', 'xticks', 'ylabel', 'ylim', 'yscale', 'yticks'] \n",
      "\n",
      "Modules :  ['_api', '_docstring', '_pylab_helpers', 'cbook', 'cm', 'functools', 'importlib', 'inspect', 'logging', 'matplotlib', 'mlab', 'np', 'rcsetup', 're', 'style', 'sys', 'threading', 'time'] \n",
      "\n",
      "Others :  ['TYPE_CHECKING', '_REPL_DISPLAYHOOK', '__annotations__', '__builtins__', '__cached__', '__doc__', '__file__', '__loader__', '__name__', '__package__', '__spec__', '_color_sequences', '_colormaps', '_log', 'annotations', 'color_sequences', 'colormaps', 'draw_all', 'rcParams', 'rcParamsDefault', 'rcParamsOrig']\n"
     ]
    }
   ],
   "source": [
    "import matplotlib.pyplot as plt\n",
    "import inspect\n",
    "\n",
    "classes_list = []\n",
    "functions_list = []\n",
    "modules_list = []\n",
    "others_list = []\n",
    "\n",
    "for name in dir(plt):\n",
    "    obj = getattr(plt, name)\n",
    "    if inspect.isclass(obj):\n",
    "        classes_list.append(name) \n",
    "    elif inspect.isfunction(obj) or inspect.isbuiltin(obj):\n",
    "        functions_list.append(name)\n",
    "    elif inspect.ismodule(obj):\n",
    "        modules_list.append(name)\n",
    "    else:\n",
    "        others_list.append(name)\n",
    "        \n",
    "print(\"Classes : \", classes_list,\"\\n\")\n",
    "print(\"Functions : \", functions_list,\"\\n\")\n",
    "print(\"Modules : \", modules_list,\"\\n\")\n",
    "print(\"Others : \", others_list)"
   ]
  },
  {
   "cell_type": "code",
   "execution_count": 30,
   "id": "b322f0f0-22c3-44e8-8be0-5a5e52985b5b",
   "metadata": {},
   "outputs": [
    {
     "data": {
      "text/plain": [
       "\u001b[1;31mSignature:\u001b[0m\n",
       "\u001b[0mmatplotlib\u001b[0m\u001b[1;33m.\u001b[0m\u001b[0mpyplot\u001b[0m\u001b[1;33m.\u001b[0m\u001b[0mplot\u001b[0m\u001b[1;33m(\u001b[0m\u001b[1;33m\n",
       "\u001b[0m    \u001b[1;33m*\u001b[0m\u001b[0margs\u001b[0m\u001b[1;33m:\u001b[0m \u001b[1;34m'float | ArrayLike | str'\u001b[0m\u001b[1;33m,\u001b[0m\u001b[1;33m\n",
       "\u001b[0m    \u001b[0mscalex\u001b[0m\u001b[1;33m:\u001b[0m \u001b[1;34m'bool'\u001b[0m \u001b[1;33m=\u001b[0m \u001b[1;32mTrue\u001b[0m\u001b[1;33m,\u001b[0m\u001b[1;33m\n",
       "\u001b[0m    \u001b[0mscaley\u001b[0m\u001b[1;33m:\u001b[0m \u001b[1;34m'bool'\u001b[0m \u001b[1;33m=\u001b[0m \u001b[1;32mTrue\u001b[0m\u001b[1;33m,\u001b[0m\u001b[1;33m\n",
       "\u001b[0m    \u001b[0mdata\u001b[0m\u001b[1;33m=\u001b[0m\u001b[1;32mNone\u001b[0m\u001b[1;33m,\u001b[0m\u001b[1;33m\n",
       "\u001b[0m    \u001b[1;33m**\u001b[0m\u001b[0mkwargs\u001b[0m\u001b[1;33m,\u001b[0m\u001b[1;33m\n",
       "\u001b[0m\u001b[1;33m)\u001b[0m \u001b[1;33m->\u001b[0m \u001b[1;34m'list[Line2D]'\u001b[0m\u001b[1;33m\u001b[0m\u001b[1;33m\u001b[0m\u001b[0m\n",
       "\u001b[1;31mDocstring:\u001b[0m\n",
       "Plot y versus x as lines and/or markers.\n",
       "\n",
       "Call signatures::\n",
       "\n",
       "    plot([x], y, [fmt], *, data=None, **kwargs)\n",
       "    plot([x], y, [fmt], [x2], y2, [fmt2], ..., **kwargs)\n",
       "\n",
       "The coordinates of the points or line nodes are given by *x*, *y*.\n",
       "\n",
       "The optional parameter *fmt* is a convenient way for defining basic\n",
       "formatting like color, marker and linestyle. It's a shortcut string\n",
       "notation described in the *Notes* section below.\n",
       "\n",
       ">>> plot(x, y)        # plot x and y using default line style and color\n",
       ">>> plot(x, y, 'bo')  # plot x and y using blue circle markers\n",
       ">>> plot(y)           # plot y using x as index array 0..N-1\n",
       ">>> plot(y, 'r+')     # ditto, but with red plusses\n",
       "\n",
       "You can use `.Line2D` properties as keyword arguments for more\n",
       "control on the appearance. Line properties and *fmt* can be mixed.\n",
       "The following two calls yield identical results:\n",
       "\n",
       ">>> plot(x, y, 'go--', linewidth=2, markersize=12)\n",
       ">>> plot(x, y, color='green', marker='o', linestyle='dashed',\n",
       "...      linewidth=2, markersize=12)\n",
       "\n",
       "When conflicting with *fmt*, keyword arguments take precedence.\n",
       "\n",
       "\n",
       "**Plotting labelled data**\n",
       "\n",
       "There's a convenient way for plotting objects with labelled data (i.e.\n",
       "data that can be accessed by index ``obj['y']``). Instead of giving\n",
       "the data in *x* and *y*, you can provide the object in the *data*\n",
       "parameter and just give the labels for *x* and *y*::\n",
       "\n",
       ">>> plot('xlabel', 'ylabel', data=obj)\n",
       "\n",
       "All indexable objects are supported. This could e.g. be a `dict`, a\n",
       "`pandas.DataFrame` or a structured numpy array.\n",
       "\n",
       "\n",
       "**Plotting multiple sets of data**\n",
       "\n",
       "There are various ways to plot multiple sets of data.\n",
       "\n",
       "- The most straight forward way is just to call `plot` multiple times.\n",
       "  Example:\n",
       "\n",
       "  >>> plot(x1, y1, 'bo')\n",
       "  >>> plot(x2, y2, 'go')\n",
       "\n",
       "- If *x* and/or *y* are 2D arrays a separate data set will be drawn\n",
       "  for every column. If both *x* and *y* are 2D, they must have the\n",
       "  same shape. If only one of them is 2D with shape (N, m) the other\n",
       "  must have length N and will be used for every data set m.\n",
       "\n",
       "  Example:\n",
       "\n",
       "  >>> x = [1, 2, 3]\n",
       "  >>> y = np.array([[1, 2], [3, 4], [5, 6]])\n",
       "  >>> plot(x, y)\n",
       "\n",
       "  is equivalent to:\n",
       "\n",
       "  >>> for col in range(y.shape[1]):\n",
       "  ...     plot(x, y[:, col])\n",
       "\n",
       "- The third way is to specify multiple sets of *[x]*, *y*, *[fmt]*\n",
       "  groups::\n",
       "\n",
       "  >>> plot(x1, y1, 'g^', x2, y2, 'g-')\n",
       "\n",
       "  In this case, any additional keyword argument applies to all\n",
       "  datasets. Also, this syntax cannot be combined with the *data*\n",
       "  parameter.\n",
       "\n",
       "By default, each line is assigned a different style specified by a\n",
       "'style cycle'. The *fmt* and line property parameters are only\n",
       "necessary if you want explicit deviations from these defaults.\n",
       "Alternatively, you can also change the style cycle using\n",
       ":rc:`axes.prop_cycle`.\n",
       "\n",
       "\n",
       "Parameters\n",
       "----------\n",
       "x, y : array-like or scalar\n",
       "    The horizontal / vertical coordinates of the data points.\n",
       "    *x* values are optional and default to ``range(len(y))``.\n",
       "\n",
       "    Commonly, these parameters are 1D arrays.\n",
       "\n",
       "    They can also be scalars, or two-dimensional (in that case, the\n",
       "    columns represent separate data sets).\n",
       "\n",
       "    These arguments cannot be passed as keywords.\n",
       "\n",
       "fmt : str, optional\n",
       "    A format string, e.g. 'ro' for red circles. See the *Notes*\n",
       "    section for a full description of the format strings.\n",
       "\n",
       "    Format strings are just an abbreviation for quickly setting\n",
       "    basic line properties. All of these and more can also be\n",
       "    controlled by keyword arguments.\n",
       "\n",
       "    This argument cannot be passed as keyword.\n",
       "\n",
       "data : indexable object, optional\n",
       "    An object with labelled data. If given, provide the label names to\n",
       "    plot in *x* and *y*.\n",
       "\n",
       "    .. note::\n",
       "        Technically there's a slight ambiguity in calls where the\n",
       "        second label is a valid *fmt*. ``plot('n', 'o', data=obj)``\n",
       "        could be ``plt(x, y)`` or ``plt(y, fmt)``. In such cases,\n",
       "        the former interpretation is chosen, but a warning is issued.\n",
       "        You may suppress the warning by adding an empty format string\n",
       "        ``plot('n', 'o', '', data=obj)``.\n",
       "\n",
       "Returns\n",
       "-------\n",
       "list of `.Line2D`\n",
       "    A list of lines representing the plotted data.\n",
       "\n",
       "Other Parameters\n",
       "----------------\n",
       "scalex, scaley : bool, default: True\n",
       "    These parameters determine if the view limits are adapted to the\n",
       "    data limits. The values are passed on to\n",
       "    `~.axes.Axes.autoscale_view`.\n",
       "\n",
       "**kwargs : `~matplotlib.lines.Line2D` properties, optional\n",
       "    *kwargs* are used to specify properties like a line label (for\n",
       "    auto legends), linewidth, antialiasing, marker face color.\n",
       "    Example::\n",
       "\n",
       "    >>> plot([1, 2, 3], [1, 2, 3], 'go-', label='line 1', linewidth=2)\n",
       "    >>> plot([1, 2, 3], [1, 4, 9], 'rs', label='line 2')\n",
       "\n",
       "    If you specify multiple lines with one plot call, the kwargs apply\n",
       "    to all those lines. In case the label object is iterable, each\n",
       "    element is used as labels for each set of data.\n",
       "\n",
       "    Here is a list of available `.Line2D` properties:\n",
       "\n",
       "    Properties:\n",
       "    agg_filter: a filter function, which takes a (m, n, 3) float array and a dpi value, and returns a (m, n, 3) array and two offsets from the bottom left corner of the image\n",
       "    alpha: scalar or None\n",
       "    animated: bool\n",
       "    antialiased or aa: bool\n",
       "    clip_box: `~matplotlib.transforms.BboxBase` or None\n",
       "    clip_on: bool\n",
       "    clip_path: Patch or (Path, Transform) or None\n",
       "    color or c: color\n",
       "    dash_capstyle: `.CapStyle` or {'butt', 'projecting', 'round'}\n",
       "    dash_joinstyle: `.JoinStyle` or {'miter', 'round', 'bevel'}\n",
       "    dashes: sequence of floats (on/off ink in points) or (None, None)\n",
       "    data: (2, N) array or two 1D arrays\n",
       "    drawstyle or ds: {'default', 'steps', 'steps-pre', 'steps-mid', 'steps-post'}, default: 'default'\n",
       "    figure: `~matplotlib.figure.Figure`\n",
       "    fillstyle: {'full', 'left', 'right', 'bottom', 'top', 'none'}\n",
       "    gapcolor: color or None\n",
       "    gid: str\n",
       "    in_layout: bool\n",
       "    label: object\n",
       "    linestyle or ls: {'-', '--', '-.', ':', '', (offset, on-off-seq), ...}\n",
       "    linewidth or lw: float\n",
       "    marker: marker style string, `~.path.Path` or `~.markers.MarkerStyle`\n",
       "    markeredgecolor or mec: color\n",
       "    markeredgewidth or mew: float\n",
       "    markerfacecolor or mfc: color\n",
       "    markerfacecoloralt or mfcalt: color\n",
       "    markersize or ms: float\n",
       "    markevery: None or int or (int, int) or slice or list[int] or float or (float, float) or list[bool]\n",
       "    mouseover: bool\n",
       "    path_effects: list of `.AbstractPathEffect`\n",
       "    picker: float or callable[[Artist, Event], tuple[bool, dict]]\n",
       "    pickradius: float\n",
       "    rasterized: bool\n",
       "    sketch_params: (scale: float, length: float, randomness: float)\n",
       "    snap: bool or None\n",
       "    solid_capstyle: `.CapStyle` or {'butt', 'projecting', 'round'}\n",
       "    solid_joinstyle: `.JoinStyle` or {'miter', 'round', 'bevel'}\n",
       "    transform: unknown\n",
       "    url: str\n",
       "    visible: bool\n",
       "    xdata: 1D array\n",
       "    ydata: 1D array\n",
       "    zorder: float\n",
       "\n",
       "See Also\n",
       "--------\n",
       "scatter : XY scatter plot with markers of varying size and/or color (\n",
       "    sometimes also called bubble chart).\n",
       "\n",
       "Notes\n",
       "-----\n",
       "**Format Strings**\n",
       "\n",
       "A format string consists of a part for color, marker and line::\n",
       "\n",
       "    fmt = '[marker][line][color]'\n",
       "\n",
       "Each of them is optional. If not provided, the value from the style\n",
       "cycle is used. Exception: If ``line`` is given, but no ``marker``,\n",
       "the data will be a line without markers.\n",
       "\n",
       "Other combinations such as ``[color][marker][line]`` are also\n",
       "supported, but note that their parsing may be ambiguous.\n",
       "\n",
       "**Markers**\n",
       "\n",
       "=============   ===============================\n",
       "character       description\n",
       "=============   ===============================\n",
       "``'.'``         point marker\n",
       "``','``         pixel marker\n",
       "``'o'``         circle marker\n",
       "``'v'``         triangle_down marker\n",
       "``'^'``         triangle_up marker\n",
       "``'<'``         triangle_left marker\n",
       "``'>'``         triangle_right marker\n",
       "``'1'``         tri_down marker\n",
       "``'2'``         tri_up marker\n",
       "``'3'``         tri_left marker\n",
       "``'4'``         tri_right marker\n",
       "``'8'``         octagon marker\n",
       "``'s'``         square marker\n",
       "``'p'``         pentagon marker\n",
       "``'P'``         plus (filled) marker\n",
       "``'*'``         star marker\n",
       "``'h'``         hexagon1 marker\n",
       "``'H'``         hexagon2 marker\n",
       "``'+'``         plus marker\n",
       "``'x'``         x marker\n",
       "``'X'``         x (filled) marker\n",
       "``'D'``         diamond marker\n",
       "``'d'``         thin_diamond marker\n",
       "``'|'``         vline marker\n",
       "``'_'``         hline marker\n",
       "=============   ===============================\n",
       "\n",
       "**Line Styles**\n",
       "\n",
       "=============    ===============================\n",
       "character        description\n",
       "=============    ===============================\n",
       "``'-'``          solid line style\n",
       "``'--'``         dashed line style\n",
       "``'-.'``         dash-dot line style\n",
       "``':'``          dotted line style\n",
       "=============    ===============================\n",
       "\n",
       "Example format strings::\n",
       "\n",
       "    'b'    # blue markers with default shape\n",
       "    'or'   # red circles\n",
       "    '-g'   # green solid line\n",
       "    '--'   # dashed line with default color\n",
       "    '^k:'  # black triangle_up markers connected by a dotted line\n",
       "\n",
       "**Colors**\n",
       "\n",
       "The supported color abbreviations are the single letter codes\n",
       "\n",
       "=============    ===============================\n",
       "character        color\n",
       "=============    ===============================\n",
       "``'b'``          blue\n",
       "``'g'``          green\n",
       "``'r'``          red\n",
       "``'c'``          cyan\n",
       "``'m'``          magenta\n",
       "``'y'``          yellow\n",
       "``'k'``          black\n",
       "``'w'``          white\n",
       "=============    ===============================\n",
       "\n",
       "and the ``'CN'`` colors that index into the default property cycle.\n",
       "\n",
       "If the color is the only part of the format string, you can\n",
       "additionally use any  `matplotlib.colors` spec, e.g. full names\n",
       "(``'green'``) or hex strings (``'#008000'``).\n",
       "\u001b[1;31mSource:\u001b[0m   \n",
       "\u001b[1;33m@\u001b[0m\u001b[0m_copy_docstring_and_deprecators\u001b[0m\u001b[1;33m(\u001b[0m\u001b[0mAxes\u001b[0m\u001b[1;33m.\u001b[0m\u001b[0mplot\u001b[0m\u001b[1;33m)\u001b[0m\u001b[1;33m\n",
       "\u001b[0m\u001b[1;32mdef\u001b[0m \u001b[0mplot\u001b[0m\u001b[1;33m(\u001b[0m\u001b[1;33m\n",
       "\u001b[0m    \u001b[1;33m*\u001b[0m\u001b[0margs\u001b[0m\u001b[1;33m:\u001b[0m \u001b[0mfloat\u001b[0m \u001b[1;33m|\u001b[0m \u001b[0mArrayLike\u001b[0m \u001b[1;33m|\u001b[0m \u001b[0mstr\u001b[0m\u001b[1;33m,\u001b[0m\u001b[1;33m\n",
       "\u001b[0m    \u001b[0mscalex\u001b[0m\u001b[1;33m:\u001b[0m \u001b[0mbool\u001b[0m \u001b[1;33m=\u001b[0m \u001b[1;32mTrue\u001b[0m\u001b[1;33m,\u001b[0m\u001b[1;33m\n",
       "\u001b[0m    \u001b[0mscaley\u001b[0m\u001b[1;33m:\u001b[0m \u001b[0mbool\u001b[0m \u001b[1;33m=\u001b[0m \u001b[1;32mTrue\u001b[0m\u001b[1;33m,\u001b[0m\u001b[1;33m\n",
       "\u001b[0m    \u001b[0mdata\u001b[0m\u001b[1;33m=\u001b[0m\u001b[1;32mNone\u001b[0m\u001b[1;33m,\u001b[0m\u001b[1;33m\n",
       "\u001b[0m    \u001b[1;33m**\u001b[0m\u001b[0mkwargs\u001b[0m\u001b[1;33m,\u001b[0m\u001b[1;33m\n",
       "\u001b[0m\u001b[1;33m)\u001b[0m \u001b[1;33m->\u001b[0m \u001b[0mlist\u001b[0m\u001b[1;33m[\u001b[0m\u001b[0mLine2D\u001b[0m\u001b[1;33m]\u001b[0m\u001b[1;33m:\u001b[0m\u001b[1;33m\n",
       "\u001b[0m    \u001b[1;32mreturn\u001b[0m \u001b[0mgca\u001b[0m\u001b[1;33m(\u001b[0m\u001b[1;33m)\u001b[0m\u001b[1;33m.\u001b[0m\u001b[0mplot\u001b[0m\u001b[1;33m(\u001b[0m\u001b[1;33m\n",
       "\u001b[0m        \u001b[1;33m*\u001b[0m\u001b[0margs\u001b[0m\u001b[1;33m,\u001b[0m\u001b[1;33m\n",
       "\u001b[0m        \u001b[0mscalex\u001b[0m\u001b[1;33m=\u001b[0m\u001b[0mscalex\u001b[0m\u001b[1;33m,\u001b[0m\u001b[1;33m\n",
       "\u001b[0m        \u001b[0mscaley\u001b[0m\u001b[1;33m=\u001b[0m\u001b[0mscaley\u001b[0m\u001b[1;33m,\u001b[0m\u001b[1;33m\n",
       "\u001b[0m        \u001b[1;33m**\u001b[0m\u001b[1;33m(\u001b[0m\u001b[1;33m{\u001b[0m\u001b[1;34m\"data\"\u001b[0m\u001b[1;33m:\u001b[0m \u001b[0mdata\u001b[0m\u001b[1;33m}\u001b[0m \u001b[1;32mif\u001b[0m \u001b[0mdata\u001b[0m \u001b[1;32mis\u001b[0m \u001b[1;32mnot\u001b[0m \u001b[1;32mNone\u001b[0m \u001b[1;32melse\u001b[0m \u001b[1;33m{\u001b[0m\u001b[1;33m}\u001b[0m\u001b[1;33m)\u001b[0m\u001b[1;33m,\u001b[0m\u001b[1;33m\n",
       "\u001b[0m        \u001b[1;33m**\u001b[0m\u001b[0mkwargs\u001b[0m\u001b[1;33m,\u001b[0m\u001b[1;33m\n",
       "\u001b[0m    \u001b[1;33m)\u001b[0m\u001b[1;33m\u001b[0m\u001b[1;33m\u001b[0m\u001b[0m\n",
       "\u001b[1;31mFile:\u001b[0m      c:\\programdata\\anaconda3\\lib\\site-packages\\matplotlib\\pyplot.py\n",
       "\u001b[1;31mType:\u001b[0m      function"
      ]
     },
     "metadata": {},
     "output_type": "display_data"
    }
   ],
   "source": [
    "matplotlib.pyplot.plot??"
   ]
  },
  {
   "cell_type": "code",
   "execution_count": 33,
   "id": "78dbd1cc-d2dd-4084-be65-4eb83016eac7",
   "metadata": {},
   "outputs": [
    {
     "data": {
      "text/plain": [
       "\u001b[1;31mSignature:\u001b[0m \u001b[0mstatistics\u001b[0m\u001b[1;33m.\u001b[0m\u001b[0mmean\u001b[0m\u001b[1;33m(\u001b[0m\u001b[0mdata\u001b[0m\u001b[1;33m)\u001b[0m\u001b[1;33m\u001b[0m\u001b[1;33m\u001b[0m\u001b[0m\n",
       "\u001b[1;31mSource:\u001b[0m   \n",
       "\u001b[1;32mdef\u001b[0m \u001b[0mmean\u001b[0m\u001b[1;33m(\u001b[0m\u001b[0mdata\u001b[0m\u001b[1;33m)\u001b[0m\u001b[1;33m:\u001b[0m\u001b[1;33m\n",
       "\u001b[0m    \u001b[1;34m\"\"\"Return the sample arithmetic mean of data.\n",
       "\n",
       "    >>> mean([1, 2, 3, 4, 4])\n",
       "    2.8\n",
       "\n",
       "    >>> from fractions import Fraction as F\n",
       "    >>> mean([F(3, 7), F(1, 21), F(5, 3), F(1, 3)])\n",
       "    Fraction(13, 21)\n",
       "\n",
       "    >>> from decimal import Decimal as D\n",
       "    >>> mean([D(\"0.5\"), D(\"0.75\"), D(\"0.625\"), D(\"0.375\")])\n",
       "    Decimal('0.5625')\n",
       "\n",
       "    If ``data`` is empty, StatisticsError will be raised.\n",
       "    \"\"\"\u001b[0m\u001b[1;33m\n",
       "\u001b[0m    \u001b[0mT\u001b[0m\u001b[1;33m,\u001b[0m \u001b[0mtotal\u001b[0m\u001b[1;33m,\u001b[0m \u001b[0mn\u001b[0m \u001b[1;33m=\u001b[0m \u001b[0m_sum\u001b[0m\u001b[1;33m(\u001b[0m\u001b[0mdata\u001b[0m\u001b[1;33m)\u001b[0m\u001b[1;33m\n",
       "\u001b[0m    \u001b[1;32mif\u001b[0m \u001b[0mn\u001b[0m \u001b[1;33m<\u001b[0m \u001b[1;36m1\u001b[0m\u001b[1;33m:\u001b[0m\u001b[1;33m\n",
       "\u001b[0m        \u001b[1;32mraise\u001b[0m \u001b[0mStatisticsError\u001b[0m\u001b[1;33m(\u001b[0m\u001b[1;34m'mean requires at least one data point'\u001b[0m\u001b[1;33m)\u001b[0m\u001b[1;33m\n",
       "\u001b[0m    \u001b[1;32mreturn\u001b[0m \u001b[0m_convert\u001b[0m\u001b[1;33m(\u001b[0m\u001b[0mtotal\u001b[0m \u001b[1;33m/\u001b[0m \u001b[0mn\u001b[0m\u001b[1;33m,\u001b[0m \u001b[0mT\u001b[0m\u001b[1;33m)\u001b[0m\u001b[1;33m\u001b[0m\u001b[1;33m\u001b[0m\u001b[0m\n",
       "\u001b[1;31mFile:\u001b[0m      c:\\programdata\\anaconda3\\lib\\statistics.py\n",
       "\u001b[1;31mType:\u001b[0m      function"
      ]
     },
     "metadata": {},
     "output_type": "display_data"
    }
   ],
   "source": [
    "statistics.mean??"
   ]
  },
  {
   "cell_type": "code",
   "execution_count": null,
   "id": "88a7c3c7-0a9f-4482-90b4-7e9d9ca1d59d",
   "metadata": {},
   "outputs": [],
   "source": []
  }
 ],
 "metadata": {
  "kernelspec": {
   "display_name": "Python 3 (ipykernel)",
   "language": "python",
   "name": "python3"
  },
  "language_info": {
   "codemirror_mode": {
    "name": "ipython",
    "version": 3
   },
   "file_extension": ".py",
   "mimetype": "text/x-python",
   "name": "python",
   "nbconvert_exporter": "python",
   "pygments_lexer": "ipython3",
   "version": "3.12.4"
  }
 },
 "nbformat": 4,
 "nbformat_minor": 5
}

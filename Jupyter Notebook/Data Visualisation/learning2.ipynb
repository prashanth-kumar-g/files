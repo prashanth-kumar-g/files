{
 "cells": [
  {
   "cell_type": "markdown",
   "metadata": {},
   "source": [
    "This notebook is to demonstrate pandas DS and basic data handling functionalities. "
   ]
  },
  {
   "cell_type": "markdown",
   "metadata": {},
   "source": [
    "SERIES"
   ]
  },
  {
   "cell_type": "code",
   "execution_count": null,
   "metadata": {},
   "outputs": [],
   "source": [
    "# import the libraries\n",
    "import numpy as np\n",
    "import pandas as pd"
   ]
  },
  {
   "cell_type": "code",
   "execution_count": null,
   "metadata": {},
   "outputs": [],
   "source": [
    "# simple list as a series\n",
    "list1= [10,20,30,40,50]\n",
    "\n",
    "# convert this into a array\n",
    "array1= pd.array(list1)\n",
    "\n",
    "series_list= pd.Series(list1)\n",
    "series_array= pd.Series(array1)\n",
    "print(series_list)\n",
    "print(series_array)\n",
    "\n",
    "# Automatic indexing"
   ]
  },
  {
   "cell_type": "code",
   "execution_count": null,
   "metadata": {},
   "outputs": [],
   "source": [
    "# Assigning index to every item in the list\n",
    "list1_labeled= pd.Series(list1,index=[\"A\", \"B\", \"C\", \"D\", \"E\"])\n",
    "list1_labeled"
   ]
  },
  {
   "cell_type": "code",
   "execution_count": null,
   "metadata": {},
   "outputs": [],
   "source": [
    "# Retrieving some values\n",
    "print(type(series_list))\n",
    "print(series_list.shape)\n",
    "print(series_list.values)\n",
    "print(series_list.index)"
   ]
  },
  {
   "cell_type": "code",
   "execution_count": null,
   "metadata": {},
   "outputs": [],
   "source": [
    "# dlist = [100,200,300,400,500]\n",
    "label_list = ['Tata', 'Birla', 'Wipro', 'Infy', 'HCL']\n",
    "ps1 = pd.Series(list1, index=label_list)  #  labelled series\n",
    "\n",
    "# Indexing or other array operations\n",
    "ps1[\"Tata\"]\n",
    "\n",
    "print(ps1[\"Tata\":\"Wipro\"])\n",
    "\n",
    "ps1['Birla':'HCL']\n",
    "ps1['Birla':'HCL':2]\n",
    "\n"
   ]
  },
  {
   "cell_type": "code",
   "execution_count": null,
   "metadata": {},
   "outputs": [],
   "source": [
    "# Applying mask or conditions to retrieve data\n",
    "mask1= ps1>10\n",
    "ps1[mask1]"
   ]
  },
  {
   "cell_type": "markdown",
   "metadata": {},
   "source": [
    "DATA FRAMES  \n",
    "    2 D data structure using labeled indexes (rows and columns)"
   ]
  },
  {
   "cell_type": "code",
   "execution_count": null,
   "metadata": {},
   "outputs": [],
   "source": [
    "#Creating a Pandas DataFrame using a list\n",
    "student = [\"Prakash\", \"Ramesh\", \"Ritvik\", \"Riyansh\", \"Vaibhav\"]\n",
    "df1= pd.DataFrame(student,columns=['Students'])\n",
    "df1"
   ]
  },
  {
   "cell_type": "code",
   "execution_count": null,
   "metadata": {},
   "outputs": [],
   "source": [
    "#Creating a Pandas DataFrame using a dictionary\n",
    "grades = ['A', \"B\", \"B-\", \"A+\", \"A+\"]\n",
    "df2=pd.DataFrame({\"Students\":student, \"Grades\":grades})\n",
    "\n",
    "# Accessing data\n",
    "df2[\"Students\"]\n",
    "#df2[::12]\n"
   ]
  },
  {
   "cell_type": "code",
   "execution_count": null,
   "metadata": {},
   "outputs": [],
   "source": [
    "#accessing data from data frame\n",
    "# loc method  - label based\n",
    "df2.loc[1] \n",
    "df2.loc[1 , \"Grades\"]\n",
    "df2.loc[4,\"Students\"]\n",
    "\n",
    "\n",
    "# iloc -- index based\n",
    "df2.iloc[3]\n",
    "\n",
    "# Using iloc method\n"
   ]
  },
  {
   "cell_type": "code",
   "execution_count": null,
   "metadata": {},
   "outputs": [],
   "source": [
    "# add a new column\n",
    "\n",
    "df2[\"location\"] = [\"BLR\", \"Chennai\",\"Raj\", \"MP\", \"AP\"]\n",
    "df2"
   ]
  },
  {
   "cell_type": "code",
   "execution_count": null,
   "metadata": {},
   "outputs": [],
   "source": [
    "# drop a column\n",
    "df2.drop(\"location\", axis=1)\n",
    "df2\n",
    "\n",
    "\n",
    "#df2.drop(\"location\", axis=1, inplace=True)"
   ]
  },
  {
   "cell_type": "markdown",
   "metadata": {},
   "source": [
    "Combining Data"
   ]
  },
  {
   "cell_type": "code",
   "execution_count": null,
   "metadata": {},
   "outputs": [],
   "source": [
    "data_cust = pd.DataFrame({\"customerID\":['101','102','103','104'], \n",
    "                        'category': ['Medium','Medium','High','Low'],\n",
    "                        'first_visit': ['yes','no','yes','yes'],\n",
    "                        'sales': [123,52,214,663]},index=[0,1,2,3])\n",
    "\n",
    "\n",
    "data_cust_new = pd.DataFrame({\"customerID\":['101','103','104','105'], \n",
    "                    'distance': [12,9,44,21],\n",
    "                    'sales': [123,214,663,331]},index=[4,5,6,7])\n",
    "\n",
    "data_cust\n"
   ]
  },
  {
   "cell_type": "code",
   "execution_count": null,
   "metadata": {},
   "outputs": [],
   "source": [
    "merged1 = pd.concat([data_cust,data_cust_new],axis=0)  # concatenates dataframes along a particular axis\n",
    "\n",
    "merged1"
   ]
  },
  {
   "cell_type": "code",
   "execution_count": null,
   "metadata": {},
   "outputs": [],
   "source": [
    "merged2=pd.merge(data_cust,data_cust_new,how='outer',on='customerID') # outer merge is union of on\n",
    "merged2\n"
   ]
  },
  {
   "cell_type": "code",
   "execution_count": null,
   "metadata": {},
   "outputs": [],
   "source": [
    "merged3= pd.merge(data_cust,data_cust_new,how='inner',on='customerID') # inner merge is intersection of on\n",
    "merged3"
   ]
  }
 ],
 "metadata": {
  "kernelspec": {
   "display_name": "Python 3",
   "language": "python",
   "name": "python3"
  },
  "language_info": {
   "codemirror_mode": {
    "name": "ipython",
    "version": 3
   },
   "file_extension": ".py",
   "mimetype": "text/x-python",
   "name": "python",
   "nbconvert_exporter": "python",
   "pygments_lexer": "ipython3",
   "version": "3.13.5"
  }
 },
 "nbformat": 4,
 "nbformat_minor": 2
}

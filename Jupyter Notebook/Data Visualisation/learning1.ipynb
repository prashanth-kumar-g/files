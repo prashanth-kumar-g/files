{
 "cells": [
  {
   "cell_type": "markdown",
   "metadata": {},
   "source": [
    "Loading data set"
   ]
  },
  {
   "cell_type": "code",
   "execution_count": null,
   "metadata": {},
   "outputs": [],
   "source": [
    "# import the libraries\n",
    "import numpy as np\n",
    "import pandas as pd"
   ]
  },
  {
   "cell_type": "code",
   "execution_count": null,
   "metadata": {},
   "outputs": [],
   "source": [
    "#loading of dataset\n",
    "df1 = pd.read_csv('learning2.csv')\n",
    "df1"
   ]
  },
  {
   "cell_type": "markdown",
   "metadata": {},
   "source": [
    "Descriptive Analysis"
   ]
  },
  {
   "cell_type": "code",
   "execution_count": null,
   "metadata": {},
   "outputs": [],
   "source": [
    "\n",
    "df1.shape\n",
    "df1.index\n",
    "df1.columns\n",
    "df1.head()\n",
    "df1.describe(include=\"all\").T"
   ]
  },
  {
   "cell_type": "markdown",
   "metadata": {},
   "source": [
    "Accessing data"
   ]
  },
  {
   "cell_type": "code",
   "execution_count": null,
   "metadata": {},
   "outputs": [],
   "source": [
    "df1[['Vol','HQ','MNC']]"
   ]
  },
  {
   "cell_type": "code",
   "execution_count": null,
   "metadata": {},
   "outputs": [],
   "source": [
    "#df1['Kolkata_FMCG']\n",
    "df1['Kolkata_FMCG':'Eastern_Estates']\n",
    "df1['Kolkata_FMCG':'Eastern_Estates':2]"
   ]
  },
  {
   "cell_type": "code",
   "execution_count": null,
   "metadata": {},
   "outputs": [],
   "source": [
    "df1.iloc[0]"
   ]
  },
  {
   "cell_type": "code",
   "execution_count": null,
   "metadata": {},
   "outputs": [],
   "source": [
    "# Conditional access\n",
    "mask1 = df1.Sector == 'Pub'\n",
    "mask1\n",
    "\n",
    "df1[mask1]"
   ]
  },
  {
   "cell_type": "code",
   "execution_count": null,
   "metadata": {},
   "outputs": [],
   "source": [
    "df1[(df1.Sector == 'Pub') & (df1.GST == 'Goods')]"
   ]
  },
  {
   "cell_type": "code",
   "execution_count": null,
   "metadata": {},
   "outputs": [],
   "source": [
    "df1.Rev.mean()\n",
    "df1[df1.Rev > df1.Rev.mean()]\n",
    "df1.Sector.value_counts()\n",
    "dfg = df1.groupby(by='Sector')\n",
    "dfg"
   ]
  },
  {
   "cell_type": "code",
   "execution_count": null,
   "metadata": {},
   "outputs": [],
   "source": [
    "#Sorting\n",
    "\n",
    "df2 = df1.sort_index(axis=0, ascending=True, inplace=False)\n",
    "#print(df2)\n",
    "\n",
    "df3=df1.sort_values(by='Vol',axis=0, ascending=True, inplace=False)\n",
    "print(df3)\n"
   ]
  },
  {
   "cell_type": "code",
   "execution_count": null,
   "metadata": {},
   "outputs": [],
   "source": [
    "# Drop\n",
    "df1.drop(index=['NCR_Leagles','Bangalore_Breweries'], columns=['Vol','GST','MNC'], inplace=False)\n",
    "df1   # does it reflect?\n",
    "\n"
   ]
  },
  {
   "cell_type": "code",
   "execution_count": null,
   "metadata": {},
   "outputs": [],
   "source": [
    "#Rename a column\n",
    "df1.rename(index={'Bangalore_Breweries':'UB', 'Central_Services':'IR'},\n",
    "          columns={'Vol':'Sales', 'Exp':'Expenditure', 'Rev':'Revenue'})\n",
    "\n",
    "df1 ## Does it reflect?\n",
    "\n"
   ]
  },
  {
   "cell_type": "code",
   "execution_count": 63,
   "metadata": {},
   "outputs": [
    {
     "data": {
      "text/html": [
       "<div>\n",
       "<style scoped>\n",
       "    .dataframe tbody tr th:only-of-type {\n",
       "        vertical-align: middle;\n",
       "    }\n",
       "\n",
       "    .dataframe tbody tr th {\n",
       "        vertical-align: top;\n",
       "    }\n",
       "\n",
       "    .dataframe thead th {\n",
       "        text-align: right;\n",
       "    }\n",
       "</style>\n",
       "<table border=\"1\" class=\"dataframe\">\n",
       "  <thead>\n",
       "    <tr style=\"text-align: right;\">\n",
       "      <th></th>\n",
       "      <th>Vol</th>\n",
       "      <th>Rev</th>\n",
       "      <th>Exp</th>\n",
       "      <th>Sector</th>\n",
       "      <th>EmpCnt</th>\n",
       "      <th>HQ</th>\n",
       "      <th>MNC</th>\n",
       "      <th>StockID</th>\n",
       "      <th>GST</th>\n",
       "      <th>Start Date</th>\n",
       "      <th>Scale</th>\n",
       "    </tr>\n",
       "  </thead>\n",
       "  <tbody>\n",
       "    <tr>\n",
       "      <th>Deccan_Sporting</th>\n",
       "      <td>931</td>\n",
       "      <td>839.80</td>\n",
       "      <td>615</td>\n",
       "      <td>Pvt</td>\n",
       "      <td>154</td>\n",
       "      <td>Hyd</td>\n",
       "      <td>1</td>\n",
       "      <td>SPRT</td>\n",
       "      <td>Services</td>\n",
       "      <td>Mar 1943</td>\n",
       "      <td>Mid</td>\n",
       "    </tr>\n",
       "    <tr>\n",
       "      <th>Kolkata_FMCG</th>\n",
       "      <td>925</td>\n",
       "      <td>874.40</td>\n",
       "      <td>676</td>\n",
       "      <td>Pub</td>\n",
       "      <td>1379</td>\n",
       "      <td>Kol</td>\n",
       "      <td>0</td>\n",
       "      <td>KFMC</td>\n",
       "      <td>Goods</td>\n",
       "      <td>Jan 1920</td>\n",
       "      <td>Mid</td>\n",
       "    </tr>\n",
       "    <tr>\n",
       "      <th>NCR_Leagles</th>\n",
       "      <td>931</td>\n",
       "      <td>863.50</td>\n",
       "      <td>605</td>\n",
       "      <td>Pub</td>\n",
       "      <td>1935</td>\n",
       "      <td>NCR</td>\n",
       "      <td>0</td>\n",
       "      <td>NCRL</td>\n",
       "      <td>Services</td>\n",
       "      <td>Feb 1960</td>\n",
       "      <td>Mid</td>\n",
       "    </tr>\n",
       "    <tr>\n",
       "      <th>Bangalore_Systems</th>\n",
       "      <td>900</td>\n",
       "      <td>881.60</td>\n",
       "      <td>650</td>\n",
       "      <td>Gov</td>\n",
       "      <td>1361</td>\n",
       "      <td>Blr</td>\n",
       "      <td>0</td>\n",
       "      <td>BSYS</td>\n",
       "      <td>Services</td>\n",
       "      <td>Apr 1950</td>\n",
       "      <td>Mid</td>\n",
       "    </tr>\n",
       "    <tr>\n",
       "      <th>Chennai_Chemicals</th>\n",
       "      <td>966</td>\n",
       "      <td>863.20</td>\n",
       "      <td>608</td>\n",
       "      <td>Pub</td>\n",
       "      <td>1656</td>\n",
       "      <td>Che</td>\n",
       "      <td>1</td>\n",
       "      <td>CHEM</td>\n",
       "      <td>Goods</td>\n",
       "      <td>Aug 1928</td>\n",
       "      <td>Mid</td>\n",
       "    </tr>\n",
       "    <tr>\n",
       "      <th>Indi_Services</th>\n",
       "      <td>954</td>\n",
       "      <td>733.00</td>\n",
       "      <td>609</td>\n",
       "      <td>Gov</td>\n",
       "      <td>13023</td>\n",
       "      <td>NCR</td>\n",
       "      <td>0</td>\n",
       "      <td>INDI</td>\n",
       "      <td>Services</td>\n",
       "      <td>Mar 1920</td>\n",
       "      <td>large</td>\n",
       "    </tr>\n",
       "    <tr>\n",
       "      <th>Bangalore_Breweries</th>\n",
       "      <td>966</td>\n",
       "      <td>805.00</td>\n",
       "      <td>899</td>\n",
       "      <td>Pvt</td>\n",
       "      <td>119</td>\n",
       "      <td>Blr</td>\n",
       "      <td>1</td>\n",
       "      <td>BREW</td>\n",
       "      <td>Goods</td>\n",
       "      <td>Oct 1971</td>\n",
       "      <td>Mid</td>\n",
       "    </tr>\n",
       "    <tr>\n",
       "      <th>Bombay_Finance</th>\n",
       "      <td>899</td>\n",
       "      <td>917.00</td>\n",
       "      <td>674</td>\n",
       "      <td>Pub</td>\n",
       "      <td>1443</td>\n",
       "      <td>Mum</td>\n",
       "      <td>0</td>\n",
       "      <td>BFIN</td>\n",
       "      <td>Services</td>\n",
       "      <td>Apr 1925</td>\n",
       "      <td>Mid</td>\n",
       "    </tr>\n",
       "    <tr>\n",
       "      <th>Chennai_Shipping</th>\n",
       "      <td>992</td>\n",
       "      <td>821.00</td>\n",
       "      <td>665</td>\n",
       "      <td>Pub</td>\n",
       "      <td>899</td>\n",
       "      <td>Che</td>\n",
       "      <td>1</td>\n",
       "      <td>SHIP</td>\n",
       "      <td>Goods</td>\n",
       "      <td>Nov 1930</td>\n",
       "      <td>Mid</td>\n",
       "    </tr>\n",
       "    <tr>\n",
       "      <th>Eastern_Estates</th>\n",
       "      <td>945</td>\n",
       "      <td>834.23</td>\n",
       "      <td>789</td>\n",
       "      <td>Pvt</td>\n",
       "      <td>1873</td>\n",
       "      <td>Kol</td>\n",
       "      <td>1</td>\n",
       "      <td>EEST</td>\n",
       "      <td>Goods</td>\n",
       "      <td>Jan 1994</td>\n",
       "      <td>Mid</td>\n",
       "    </tr>\n",
       "    <tr>\n",
       "      <th>Central_Services</th>\n",
       "      <td>934</td>\n",
       "      <td>824.00</td>\n",
       "      <td>689</td>\n",
       "      <td>Gov</td>\n",
       "      <td>1573</td>\n",
       "      <td>NCR</td>\n",
       "      <td>1</td>\n",
       "      <td>CSRV</td>\n",
       "      <td>Services</td>\n",
       "      <td>Jun 1974</td>\n",
       "      <td>Mid</td>\n",
       "    </tr>\n",
       "  </tbody>\n",
       "</table>\n",
       "</div>"
      ],
      "text/plain": [
       "                     Vol     Rev  Exp Sector  EmpCnt   HQ  MNC StockID  \\\n",
       "Deccan_Sporting      931  839.80  615    Pvt     154  Hyd    1    SPRT   \n",
       "Kolkata_FMCG         925  874.40  676    Pub    1379  Kol    0    KFMC   \n",
       "NCR_Leagles          931  863.50  605    Pub    1935  NCR    0    NCRL   \n",
       "Bangalore_Systems    900  881.60  650    Gov    1361  Blr    0    BSYS   \n",
       "Chennai_Chemicals    966  863.20  608    Pub    1656  Che    1    CHEM   \n",
       "Indi_Services        954  733.00  609    Gov   13023  NCR    0    INDI   \n",
       "Bangalore_Breweries  966  805.00  899    Pvt     119  Blr    1    BREW   \n",
       "Bombay_Finance       899  917.00  674    Pub    1443  Mum    0    BFIN   \n",
       "Chennai_Shipping     992  821.00  665    Pub     899  Che    1    SHIP   \n",
       "Eastern_Estates      945  834.23  789    Pvt    1873  Kol    1    EEST   \n",
       "Central_Services     934  824.00  689    Gov    1573  NCR    1    CSRV   \n",
       "\n",
       "                          GST Start Date  Scale  \n",
       "Deccan_Sporting      Services   Mar 1943    Mid  \n",
       "Kolkata_FMCG            Goods   Jan 1920    Mid  \n",
       "NCR_Leagles          Services   Feb 1960    Mid  \n",
       "Bangalore_Systems    Services   Apr 1950    Mid  \n",
       "Chennai_Chemicals       Goods   Aug 1928    Mid  \n",
       "Indi_Services        Services   Mar 1920  large  \n",
       "Bangalore_Breweries     Goods   Oct 1971    Mid  \n",
       "Bombay_Finance       Services   Apr 1925    Mid  \n",
       "Chennai_Shipping        Goods   Nov 1930    Mid  \n",
       "Eastern_Estates         Goods   Jan 1994    Mid  \n",
       "Central_Services     Services   Jun 1974    Mid  "
      ]
     },
     "execution_count": 63,
     "metadata": {},
     "output_type": "execute_result"
    }
   ],
   "source": [
    "\n",
    "def Emp_count_analysis(empcount):\n",
    "    if empcount > 2000:\n",
    "        return 'large'\n",
    "    elif empcount < 2000:\n",
    "        return 'Mid'\n",
    "    else:\n",
    "        return 'Small'\n",
    "    \n",
    "\n",
    "df1['Scale'] = df1.EmpCnt.map(Emp_count_analysis)\n",
    "\n",
    "df1"
   ]
  }
 ],
 "metadata": {
  "kernelspec": {
   "display_name": "Python 3",
   "language": "python",
   "name": "python3"
  },
  "language_info": {
   "codemirror_mode": {
    "name": "ipython",
    "version": 3
   },
   "file_extension": ".py",
   "mimetype": "text/x-python",
   "name": "python",
   "nbconvert_exporter": "python",
   "pygments_lexer": "ipython3",
   "version": "3.13.5"
  }
 },
 "nbformat": 4,
 "nbformat_minor": 2
}
